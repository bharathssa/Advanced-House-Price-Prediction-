{
 "cells": [
  {
   "cell_type": "markdown",
   "id": "90f901c6",
   "metadata": {
    "id": "view-in-github",
    "papermill": {
     "duration": 0.045494,
     "end_time": "2022-01-25T19:16:49.671104",
     "exception": false,
     "start_time": "2022-01-25T19:16:49.625610",
     "status": "completed"
    },
    "tags": []
   },
   "source": [
    "<a href=\"https://colab.research.google.com/github/bharathssa/Machine-Learning/blob/main/Cardekho%20selling%20price%20prediction_kaggle.ipynb\" target=\"_parent\"><img src=\"https://colab.research.google.com/assets/colab-badge.svg\" alt=\"Open In Colab\"/></a>"
   ]
  },
  {
   "cell_type": "code",
   "execution_count": 1,
   "id": "a4438546",
   "metadata": {
    "execution": {
     "iopub.execute_input": "2022-01-25T19:16:49.758636Z",
     "iopub.status.busy": "2022-01-25T19:16:49.757447Z",
     "iopub.status.idle": "2022-01-25T19:16:50.760406Z",
     "shell.execute_reply": "2022-01-25T19:16:50.759211Z",
     "shell.execute_reply.started": "2022-01-25T19:15:00.691443Z"
    },
    "id": "r6IKuoXAini_",
    "papermill": {
     "duration": 1.049348,
     "end_time": "2022-01-25T19:16:50.760643",
     "exception": false,
     "start_time": "2022-01-25T19:16:49.711295",
     "status": "completed"
    },
    "tags": []
   },
   "outputs": [],
   "source": [
    "import pandas as pd\n",
    "import numpy as np\n",
    "import seaborn as sns\n",
    "import matplotlib.pyplot as plt\n"
   ]
  },
  {
   "cell_type": "code",
   "execution_count": 2,
   "id": "b9912d98",
   "metadata": {
    "execution": {
     "iopub.execute_input": "2022-01-25T19:16:50.862604Z",
     "iopub.status.busy": "2022-01-25T19:16:50.861907Z",
     "iopub.status.idle": "2022-01-25T19:16:50.886413Z",
     "shell.execute_reply": "2022-01-25T19:16:50.885687Z",
     "shell.execute_reply.started": "2022-01-25T19:15:00.701250Z"
    },
    "id": "-NIxQ7s7i-Jq",
    "papermill": {
     "duration": 0.074424,
     "end_time": "2022-01-25T19:16:50.886555",
     "exception": false,
     "start_time": "2022-01-25T19:16:50.812131",
     "status": "completed"
    },
    "tags": []
   },
   "outputs": [],
   "source": [
    "df = pd.read_csv('/kaggle/input/cardekho/car data.csv')"
   ]
  },
  {
   "cell_type": "code",
   "execution_count": 3,
   "id": "f56ff5ab",
   "metadata": {
    "execution": {
     "iopub.execute_input": "2022-01-25T19:16:50.968113Z",
     "iopub.status.busy": "2022-01-25T19:16:50.967433Z",
     "iopub.status.idle": "2022-01-25T19:16:50.987850Z",
     "shell.execute_reply": "2022-01-25T19:16:50.988358Z",
     "shell.execute_reply.started": "2022-01-25T19:15:00.713883Z"
    },
    "id": "GTrvqSc8jILm",
    "outputId": "07f5ac0c-a15a-4b22-df34-146f98a0e960",
    "papermill": {
     "duration": 0.064106,
     "end_time": "2022-01-25T19:16:50.988528",
     "exception": false,
     "start_time": "2022-01-25T19:16:50.924422",
     "status": "completed"
    },
    "tags": []
   },
   "outputs": [
    {
     "name": "stdout",
     "output_type": "stream",
     "text": [
      "<class 'pandas.core.frame.DataFrame'>\n",
      "RangeIndex: 301 entries, 0 to 300\n",
      "Data columns (total 9 columns):\n",
      " #   Column         Non-Null Count  Dtype  \n",
      "---  ------         --------------  -----  \n",
      " 0   Car_Name       301 non-null    object \n",
      " 1   Year           301 non-null    int64  \n",
      " 2   Selling_Price  301 non-null    float64\n",
      " 3   Present_Price  301 non-null    float64\n",
      " 4   Kms_Driven     301 non-null    int64  \n",
      " 5   Fuel_Type      301 non-null    object \n",
      " 6   Seller_Type    301 non-null    object \n",
      " 7   Transmission   301 non-null    object \n",
      " 8   Owner          301 non-null    int64  \n",
      "dtypes: float64(2), int64(3), object(4)\n",
      "memory usage: 21.3+ KB\n"
     ]
    }
   ],
   "source": [
    "df.info()"
   ]
  },
  {
   "cell_type": "code",
   "execution_count": 4,
   "id": "5536c33a",
   "metadata": {
    "execution": {
     "iopub.execute_input": "2022-01-25T19:16:51.067764Z",
     "iopub.status.busy": "2022-01-25T19:16:51.067148Z",
     "iopub.status.idle": "2022-01-25T19:16:51.086292Z",
     "shell.execute_reply": "2022-01-25T19:16:51.086941Z",
     "shell.execute_reply.started": "2022-01-25T19:15:00.746278Z"
    },
    "id": "VNubgmEJjZX_",
    "outputId": "835c1fd6-081f-484c-dc02-8eee36609c73",
    "papermill": {
     "duration": 0.060799,
     "end_time": "2022-01-25T19:16:51.087127",
     "exception": false,
     "start_time": "2022-01-25T19:16:51.026328",
     "status": "completed"
    },
    "tags": []
   },
   "outputs": [
    {
     "data": {
      "text/html": [
       "<div>\n",
       "<style scoped>\n",
       "    .dataframe tbody tr th:only-of-type {\n",
       "        vertical-align: middle;\n",
       "    }\n",
       "\n",
       "    .dataframe tbody tr th {\n",
       "        vertical-align: top;\n",
       "    }\n",
       "\n",
       "    .dataframe thead th {\n",
       "        text-align: right;\n",
       "    }\n",
       "</style>\n",
       "<table border=\"1\" class=\"dataframe\">\n",
       "  <thead>\n",
       "    <tr style=\"text-align: right;\">\n",
       "      <th></th>\n",
       "      <th>Car_Name</th>\n",
       "      <th>Year</th>\n",
       "      <th>Selling_Price</th>\n",
       "      <th>Present_Price</th>\n",
       "      <th>Kms_Driven</th>\n",
       "      <th>Fuel_Type</th>\n",
       "      <th>Seller_Type</th>\n",
       "      <th>Transmission</th>\n",
       "      <th>Owner</th>\n",
       "    </tr>\n",
       "  </thead>\n",
       "  <tbody>\n",
       "    <tr>\n",
       "      <th>0</th>\n",
       "      <td>ritz</td>\n",
       "      <td>2014</td>\n",
       "      <td>3.35</td>\n",
       "      <td>5.59</td>\n",
       "      <td>27000</td>\n",
       "      <td>Petrol</td>\n",
       "      <td>Dealer</td>\n",
       "      <td>Manual</td>\n",
       "      <td>0</td>\n",
       "    </tr>\n",
       "    <tr>\n",
       "      <th>1</th>\n",
       "      <td>sx4</td>\n",
       "      <td>2013</td>\n",
       "      <td>4.75</td>\n",
       "      <td>9.54</td>\n",
       "      <td>43000</td>\n",
       "      <td>Diesel</td>\n",
       "      <td>Dealer</td>\n",
       "      <td>Manual</td>\n",
       "      <td>0</td>\n",
       "    </tr>\n",
       "    <tr>\n",
       "      <th>2</th>\n",
       "      <td>ciaz</td>\n",
       "      <td>2017</td>\n",
       "      <td>7.25</td>\n",
       "      <td>9.85</td>\n",
       "      <td>6900</td>\n",
       "      <td>Petrol</td>\n",
       "      <td>Dealer</td>\n",
       "      <td>Manual</td>\n",
       "      <td>0</td>\n",
       "    </tr>\n",
       "    <tr>\n",
       "      <th>3</th>\n",
       "      <td>wagon r</td>\n",
       "      <td>2011</td>\n",
       "      <td>2.85</td>\n",
       "      <td>4.15</td>\n",
       "      <td>5200</td>\n",
       "      <td>Petrol</td>\n",
       "      <td>Dealer</td>\n",
       "      <td>Manual</td>\n",
       "      <td>0</td>\n",
       "    </tr>\n",
       "    <tr>\n",
       "      <th>4</th>\n",
       "      <td>swift</td>\n",
       "      <td>2014</td>\n",
       "      <td>4.60</td>\n",
       "      <td>6.87</td>\n",
       "      <td>42450</td>\n",
       "      <td>Diesel</td>\n",
       "      <td>Dealer</td>\n",
       "      <td>Manual</td>\n",
       "      <td>0</td>\n",
       "    </tr>\n",
       "  </tbody>\n",
       "</table>\n",
       "</div>"
      ],
      "text/plain": [
       "  Car_Name  Year  Selling_Price  Present_Price  Kms_Driven Fuel_Type  \\\n",
       "0     ritz  2014           3.35           5.59       27000    Petrol   \n",
       "1      sx4  2013           4.75           9.54       43000    Diesel   \n",
       "2     ciaz  2017           7.25           9.85        6900    Petrol   \n",
       "3  wagon r  2011           2.85           4.15        5200    Petrol   \n",
       "4    swift  2014           4.60           6.87       42450    Diesel   \n",
       "\n",
       "  Seller_Type Transmission  Owner  \n",
       "0      Dealer       Manual      0  \n",
       "1      Dealer       Manual      0  \n",
       "2      Dealer       Manual      0  \n",
       "3      Dealer       Manual      0  \n",
       "4      Dealer       Manual      0  "
      ]
     },
     "execution_count": 4,
     "metadata": {},
     "output_type": "execute_result"
    }
   ],
   "source": [
    "### There is no null value\n",
    "df.head()"
   ]
  },
  {
   "cell_type": "code",
   "execution_count": 5,
   "id": "06e4d235",
   "metadata": {
    "execution": {
     "iopub.execute_input": "2022-01-25T19:16:51.166158Z",
     "iopub.status.busy": "2022-01-25T19:16:51.165473Z",
     "iopub.status.idle": "2022-01-25T19:16:51.191753Z",
     "shell.execute_reply": "2022-01-25T19:16:51.192365Z",
     "shell.execute_reply.started": "2022-01-25T19:15:00.766582Z"
    },
    "id": "rnlHqRhsjdpW",
    "outputId": "dcdba73e-2282-4892-cd79-b2bcde1843b6",
    "papermill": {
     "duration": 0.067425,
     "end_time": "2022-01-25T19:16:51.192533",
     "exception": false,
     "start_time": "2022-01-25T19:16:51.125108",
     "status": "completed"
    },
    "tags": []
   },
   "outputs": [
    {
     "data": {
      "text/html": [
       "<div>\n",
       "<style scoped>\n",
       "    .dataframe tbody tr th:only-of-type {\n",
       "        vertical-align: middle;\n",
       "    }\n",
       "\n",
       "    .dataframe tbody tr th {\n",
       "        vertical-align: top;\n",
       "    }\n",
       "\n",
       "    .dataframe thead th {\n",
       "        text-align: right;\n",
       "    }\n",
       "</style>\n",
       "<table border=\"1\" class=\"dataframe\">\n",
       "  <thead>\n",
       "    <tr style=\"text-align: right;\">\n",
       "      <th></th>\n",
       "      <th>Year</th>\n",
       "      <th>Selling_Price</th>\n",
       "      <th>Present_Price</th>\n",
       "      <th>Kms_Driven</th>\n",
       "      <th>Owner</th>\n",
       "    </tr>\n",
       "  </thead>\n",
       "  <tbody>\n",
       "    <tr>\n",
       "      <th>count</th>\n",
       "      <td>301.000000</td>\n",
       "      <td>301.000000</td>\n",
       "      <td>301.000000</td>\n",
       "      <td>301.000000</td>\n",
       "      <td>301.000000</td>\n",
       "    </tr>\n",
       "    <tr>\n",
       "      <th>mean</th>\n",
       "      <td>2013.627907</td>\n",
       "      <td>4.661296</td>\n",
       "      <td>7.628472</td>\n",
       "      <td>36947.205980</td>\n",
       "      <td>0.043189</td>\n",
       "    </tr>\n",
       "    <tr>\n",
       "      <th>std</th>\n",
       "      <td>2.891554</td>\n",
       "      <td>5.082812</td>\n",
       "      <td>8.644115</td>\n",
       "      <td>38886.883882</td>\n",
       "      <td>0.247915</td>\n",
       "    </tr>\n",
       "    <tr>\n",
       "      <th>min</th>\n",
       "      <td>2003.000000</td>\n",
       "      <td>0.100000</td>\n",
       "      <td>0.320000</td>\n",
       "      <td>500.000000</td>\n",
       "      <td>0.000000</td>\n",
       "    </tr>\n",
       "    <tr>\n",
       "      <th>25%</th>\n",
       "      <td>2012.000000</td>\n",
       "      <td>0.900000</td>\n",
       "      <td>1.200000</td>\n",
       "      <td>15000.000000</td>\n",
       "      <td>0.000000</td>\n",
       "    </tr>\n",
       "    <tr>\n",
       "      <th>50%</th>\n",
       "      <td>2014.000000</td>\n",
       "      <td>3.600000</td>\n",
       "      <td>6.400000</td>\n",
       "      <td>32000.000000</td>\n",
       "      <td>0.000000</td>\n",
       "    </tr>\n",
       "    <tr>\n",
       "      <th>75%</th>\n",
       "      <td>2016.000000</td>\n",
       "      <td>6.000000</td>\n",
       "      <td>9.900000</td>\n",
       "      <td>48767.000000</td>\n",
       "      <td>0.000000</td>\n",
       "    </tr>\n",
       "    <tr>\n",
       "      <th>max</th>\n",
       "      <td>2018.000000</td>\n",
       "      <td>35.000000</td>\n",
       "      <td>92.600000</td>\n",
       "      <td>500000.000000</td>\n",
       "      <td>3.000000</td>\n",
       "    </tr>\n",
       "  </tbody>\n",
       "</table>\n",
       "</div>"
      ],
      "text/plain": [
       "              Year  Selling_Price  Present_Price     Kms_Driven       Owner\n",
       "count   301.000000     301.000000     301.000000     301.000000  301.000000\n",
       "mean   2013.627907       4.661296       7.628472   36947.205980    0.043189\n",
       "std       2.891554       5.082812       8.644115   38886.883882    0.247915\n",
       "min    2003.000000       0.100000       0.320000     500.000000    0.000000\n",
       "25%    2012.000000       0.900000       1.200000   15000.000000    0.000000\n",
       "50%    2014.000000       3.600000       6.400000   32000.000000    0.000000\n",
       "75%    2016.000000       6.000000       9.900000   48767.000000    0.000000\n",
       "max    2018.000000      35.000000      92.600000  500000.000000    3.000000"
      ]
     },
     "execution_count": 5,
     "metadata": {},
     "output_type": "execute_result"
    }
   ],
   "source": [
    "df.describe()"
   ]
  },
  {
   "cell_type": "code",
   "execution_count": 6,
   "id": "d259e782",
   "metadata": {
    "execution": {
     "iopub.execute_input": "2022-01-25T19:16:51.272372Z",
     "iopub.status.busy": "2022-01-25T19:16:51.271706Z",
     "iopub.status.idle": "2022-01-25T19:16:51.284776Z",
     "shell.execute_reply": "2022-01-25T19:16:51.285323Z",
     "shell.execute_reply.started": "2022-01-25T19:15:00.797071Z"
    },
    "id": "o-txBW3ckBxo",
    "outputId": "e8f12a23-284c-4722-d509-fd67081ce970",
    "papermill": {
     "duration": 0.054514,
     "end_time": "2022-01-25T19:16:51.285498",
     "exception": false,
     "start_time": "2022-01-25T19:16:51.230984",
     "status": "completed"
    },
    "tags": []
   },
   "outputs": [
    {
     "data": {
      "text/html": [
       "<div>\n",
       "<style scoped>\n",
       "    .dataframe tbody tr th:only-of-type {\n",
       "        vertical-align: middle;\n",
       "    }\n",
       "\n",
       "    .dataframe tbody tr th {\n",
       "        vertical-align: top;\n",
       "    }\n",
       "\n",
       "    .dataframe thead th {\n",
       "        text-align: right;\n",
       "    }\n",
       "</style>\n",
       "<table border=\"1\" class=\"dataframe\">\n",
       "  <thead>\n",
       "    <tr style=\"text-align: right;\">\n",
       "      <th></th>\n",
       "      <th>Car_Name</th>\n",
       "      <th>Year</th>\n",
       "      <th>Selling_Price</th>\n",
       "      <th>Present_Price</th>\n",
       "      <th>Kms_Driven</th>\n",
       "      <th>Fuel_Type</th>\n",
       "      <th>Seller_Type</th>\n",
       "      <th>Transmission</th>\n",
       "      <th>Owner</th>\n",
       "    </tr>\n",
       "  </thead>\n",
       "  <tbody>\n",
       "    <tr>\n",
       "      <th>0</th>\n",
       "      <td>ritz</td>\n",
       "      <td>2014</td>\n",
       "      <td>3.35</td>\n",
       "      <td>5.59</td>\n",
       "      <td>27000</td>\n",
       "      <td>Petrol</td>\n",
       "      <td>Dealer</td>\n",
       "      <td>Manual</td>\n",
       "      <td>0</td>\n",
       "    </tr>\n",
       "    <tr>\n",
       "      <th>1</th>\n",
       "      <td>sx4</td>\n",
       "      <td>2013</td>\n",
       "      <td>4.75</td>\n",
       "      <td>9.54</td>\n",
       "      <td>43000</td>\n",
       "      <td>Diesel</td>\n",
       "      <td>Dealer</td>\n",
       "      <td>Manual</td>\n",
       "      <td>0</td>\n",
       "    </tr>\n",
       "    <tr>\n",
       "      <th>2</th>\n",
       "      <td>ciaz</td>\n",
       "      <td>2017</td>\n",
       "      <td>7.25</td>\n",
       "      <td>9.85</td>\n",
       "      <td>6900</td>\n",
       "      <td>Petrol</td>\n",
       "      <td>Dealer</td>\n",
       "      <td>Manual</td>\n",
       "      <td>0</td>\n",
       "    </tr>\n",
       "    <tr>\n",
       "      <th>3</th>\n",
       "      <td>wagon r</td>\n",
       "      <td>2011</td>\n",
       "      <td>2.85</td>\n",
       "      <td>4.15</td>\n",
       "      <td>5200</td>\n",
       "      <td>Petrol</td>\n",
       "      <td>Dealer</td>\n",
       "      <td>Manual</td>\n",
       "      <td>0</td>\n",
       "    </tr>\n",
       "    <tr>\n",
       "      <th>4</th>\n",
       "      <td>swift</td>\n",
       "      <td>2014</td>\n",
       "      <td>4.60</td>\n",
       "      <td>6.87</td>\n",
       "      <td>42450</td>\n",
       "      <td>Diesel</td>\n",
       "      <td>Dealer</td>\n",
       "      <td>Manual</td>\n",
       "      <td>0</td>\n",
       "    </tr>\n",
       "  </tbody>\n",
       "</table>\n",
       "</div>"
      ],
      "text/plain": [
       "  Car_Name  Year  Selling_Price  Present_Price  Kms_Driven Fuel_Type  \\\n",
       "0     ritz  2014           3.35           5.59       27000    Petrol   \n",
       "1      sx4  2013           4.75           9.54       43000    Diesel   \n",
       "2     ciaz  2017           7.25           9.85        6900    Petrol   \n",
       "3  wagon r  2011           2.85           4.15        5200    Petrol   \n",
       "4    swift  2014           4.60           6.87       42450    Diesel   \n",
       "\n",
       "  Seller_Type Transmission  Owner  \n",
       "0      Dealer       Manual      0  \n",
       "1      Dealer       Manual      0  \n",
       "2      Dealer       Manual      0  \n",
       "3      Dealer       Manual      0  \n",
       "4      Dealer       Manual      0  "
      ]
     },
     "execution_count": 6,
     "metadata": {},
     "output_type": "execute_result"
    }
   ],
   "source": [
    "df.head()"
   ]
  },
  {
   "cell_type": "code",
   "execution_count": 7,
   "id": "50867600",
   "metadata": {
    "execution": {
     "iopub.execute_input": "2022-01-25T19:16:51.369269Z",
     "iopub.status.busy": "2022-01-25T19:16:51.368570Z",
     "iopub.status.idle": "2022-01-25T19:16:51.371186Z",
     "shell.execute_reply": "2022-01-25T19:16:51.371689Z",
     "shell.execute_reply.started": "2022-01-25T19:15:00.812959Z"
    },
    "id": "XAul8LjvlA6Z",
    "outputId": "1c4ec611-1240-4c87-a551-525cb77be46e",
    "papermill": {
     "duration": 0.047339,
     "end_time": "2022-01-25T19:16:51.371886",
     "exception": false,
     "start_time": "2022-01-25T19:16:51.324547",
     "status": "completed"
    },
    "tags": []
   },
   "outputs": [
    {
     "name": "stdout",
     "output_type": "stream",
     "text": [
      "2022\n"
     ]
    }
   ],
   "source": [
    "from datetime import date\n",
    "today = date.today()\n",
    "current_year = today.year\n",
    "print(current_year)"
   ]
  },
  {
   "cell_type": "code",
   "execution_count": 8,
   "id": "2051afbd",
   "metadata": {
    "execution": {
     "iopub.execute_input": "2022-01-25T19:16:51.454107Z",
     "iopub.status.busy": "2022-01-25T19:16:51.453445Z",
     "iopub.status.idle": "2022-01-25T19:16:51.467648Z",
     "shell.execute_reply": "2022-01-25T19:16:51.468209Z",
     "shell.execute_reply.started": "2022-01-25T19:15:00.827351Z"
    },
    "id": "prcNbn8kludd",
    "outputId": "ebdb62b2-5969-4170-c9e0-ab55f52ba655",
    "papermill": {
     "duration": 0.057175,
     "end_time": "2022-01-25T19:16:51.468390",
     "exception": false,
     "start_time": "2022-01-25T19:16:51.411215",
     "status": "completed"
    },
    "tags": []
   },
   "outputs": [
    {
     "data": {
      "text/html": [
       "<div>\n",
       "<style scoped>\n",
       "    .dataframe tbody tr th:only-of-type {\n",
       "        vertical-align: middle;\n",
       "    }\n",
       "\n",
       "    .dataframe tbody tr th {\n",
       "        vertical-align: top;\n",
       "    }\n",
       "\n",
       "    .dataframe thead th {\n",
       "        text-align: right;\n",
       "    }\n",
       "</style>\n",
       "<table border=\"1\" class=\"dataframe\">\n",
       "  <thead>\n",
       "    <tr style=\"text-align: right;\">\n",
       "      <th></th>\n",
       "      <th>Car_Name</th>\n",
       "      <th>Year</th>\n",
       "      <th>Selling_Price</th>\n",
       "      <th>Present_Price</th>\n",
       "      <th>Kms_Driven</th>\n",
       "      <th>Fuel_Type</th>\n",
       "      <th>Seller_Type</th>\n",
       "      <th>Transmission</th>\n",
       "      <th>Owner</th>\n",
       "      <th>current_year</th>\n",
       "    </tr>\n",
       "  </thead>\n",
       "  <tbody>\n",
       "    <tr>\n",
       "      <th>0</th>\n",
       "      <td>ritz</td>\n",
       "      <td>2014</td>\n",
       "      <td>3.35</td>\n",
       "      <td>5.59</td>\n",
       "      <td>27000</td>\n",
       "      <td>Petrol</td>\n",
       "      <td>Dealer</td>\n",
       "      <td>Manual</td>\n",
       "      <td>0</td>\n",
       "      <td>2022</td>\n",
       "    </tr>\n",
       "    <tr>\n",
       "      <th>1</th>\n",
       "      <td>sx4</td>\n",
       "      <td>2013</td>\n",
       "      <td>4.75</td>\n",
       "      <td>9.54</td>\n",
       "      <td>43000</td>\n",
       "      <td>Diesel</td>\n",
       "      <td>Dealer</td>\n",
       "      <td>Manual</td>\n",
       "      <td>0</td>\n",
       "      <td>2022</td>\n",
       "    </tr>\n",
       "    <tr>\n",
       "      <th>2</th>\n",
       "      <td>ciaz</td>\n",
       "      <td>2017</td>\n",
       "      <td>7.25</td>\n",
       "      <td>9.85</td>\n",
       "      <td>6900</td>\n",
       "      <td>Petrol</td>\n",
       "      <td>Dealer</td>\n",
       "      <td>Manual</td>\n",
       "      <td>0</td>\n",
       "      <td>2022</td>\n",
       "    </tr>\n",
       "    <tr>\n",
       "      <th>3</th>\n",
       "      <td>wagon r</td>\n",
       "      <td>2011</td>\n",
       "      <td>2.85</td>\n",
       "      <td>4.15</td>\n",
       "      <td>5200</td>\n",
       "      <td>Petrol</td>\n",
       "      <td>Dealer</td>\n",
       "      <td>Manual</td>\n",
       "      <td>0</td>\n",
       "      <td>2022</td>\n",
       "    </tr>\n",
       "    <tr>\n",
       "      <th>4</th>\n",
       "      <td>swift</td>\n",
       "      <td>2014</td>\n",
       "      <td>4.60</td>\n",
       "      <td>6.87</td>\n",
       "      <td>42450</td>\n",
       "      <td>Diesel</td>\n",
       "      <td>Dealer</td>\n",
       "      <td>Manual</td>\n",
       "      <td>0</td>\n",
       "      <td>2022</td>\n",
       "    </tr>\n",
       "  </tbody>\n",
       "</table>\n",
       "</div>"
      ],
      "text/plain": [
       "  Car_Name  Year  Selling_Price  Present_Price  Kms_Driven Fuel_Type  \\\n",
       "0     ritz  2014           3.35           5.59       27000    Petrol   \n",
       "1      sx4  2013           4.75           9.54       43000    Diesel   \n",
       "2     ciaz  2017           7.25           9.85        6900    Petrol   \n",
       "3  wagon r  2011           2.85           4.15        5200    Petrol   \n",
       "4    swift  2014           4.60           6.87       42450    Diesel   \n",
       "\n",
       "  Seller_Type Transmission  Owner  current_year  \n",
       "0      Dealer       Manual      0          2022  \n",
       "1      Dealer       Manual      0          2022  \n",
       "2      Dealer       Manual      0          2022  \n",
       "3      Dealer       Manual      0          2022  \n",
       "4      Dealer       Manual      0          2022  "
      ]
     },
     "execution_count": 8,
     "metadata": {},
     "output_type": "execute_result"
    }
   ],
   "source": [
    "df['current_year'] = current_year\n",
    "df.head(5)"
   ]
  },
  {
   "cell_type": "code",
   "execution_count": 9,
   "id": "e9189c55",
   "metadata": {
    "execution": {
     "iopub.execute_input": "2022-01-25T19:16:51.553223Z",
     "iopub.status.busy": "2022-01-25T19:16:51.552369Z",
     "iopub.status.idle": "2022-01-25T19:16:51.567044Z",
     "shell.execute_reply": "2022-01-25T19:16:51.567625Z",
     "shell.execute_reply.started": "2022-01-25T19:15:00.851491Z"
    },
    "id": "nvZmJ94KmEla",
    "outputId": "cff5a9fd-91de-40f3-d0aa-b64775ed2fae",
    "papermill": {
     "duration": 0.058453,
     "end_time": "2022-01-25T19:16:51.567791",
     "exception": false,
     "start_time": "2022-01-25T19:16:51.509338",
     "status": "completed"
    },
    "tags": []
   },
   "outputs": [
    {
     "data": {
      "text/html": [
       "<div>\n",
       "<style scoped>\n",
       "    .dataframe tbody tr th:only-of-type {\n",
       "        vertical-align: middle;\n",
       "    }\n",
       "\n",
       "    .dataframe tbody tr th {\n",
       "        vertical-align: top;\n",
       "    }\n",
       "\n",
       "    .dataframe thead th {\n",
       "        text-align: right;\n",
       "    }\n",
       "</style>\n",
       "<table border=\"1\" class=\"dataframe\">\n",
       "  <thead>\n",
       "    <tr style=\"text-align: right;\">\n",
       "      <th></th>\n",
       "      <th>Car_Name</th>\n",
       "      <th>Year</th>\n",
       "      <th>Selling_Price</th>\n",
       "      <th>Present_Price</th>\n",
       "      <th>Kms_Driven</th>\n",
       "      <th>Fuel_Type</th>\n",
       "      <th>Seller_Type</th>\n",
       "      <th>Transmission</th>\n",
       "      <th>Owner</th>\n",
       "      <th>current_year</th>\n",
       "      <th>No. of Years</th>\n",
       "    </tr>\n",
       "  </thead>\n",
       "  <tbody>\n",
       "    <tr>\n",
       "      <th>0</th>\n",
       "      <td>ritz</td>\n",
       "      <td>2014</td>\n",
       "      <td>3.35</td>\n",
       "      <td>5.59</td>\n",
       "      <td>27000</td>\n",
       "      <td>Petrol</td>\n",
       "      <td>Dealer</td>\n",
       "      <td>Manual</td>\n",
       "      <td>0</td>\n",
       "      <td>2022</td>\n",
       "      <td>8</td>\n",
       "    </tr>\n",
       "    <tr>\n",
       "      <th>1</th>\n",
       "      <td>sx4</td>\n",
       "      <td>2013</td>\n",
       "      <td>4.75</td>\n",
       "      <td>9.54</td>\n",
       "      <td>43000</td>\n",
       "      <td>Diesel</td>\n",
       "      <td>Dealer</td>\n",
       "      <td>Manual</td>\n",
       "      <td>0</td>\n",
       "      <td>2022</td>\n",
       "      <td>9</td>\n",
       "    </tr>\n",
       "    <tr>\n",
       "      <th>2</th>\n",
       "      <td>ciaz</td>\n",
       "      <td>2017</td>\n",
       "      <td>7.25</td>\n",
       "      <td>9.85</td>\n",
       "      <td>6900</td>\n",
       "      <td>Petrol</td>\n",
       "      <td>Dealer</td>\n",
       "      <td>Manual</td>\n",
       "      <td>0</td>\n",
       "      <td>2022</td>\n",
       "      <td>5</td>\n",
       "    </tr>\n",
       "  </tbody>\n",
       "</table>\n",
       "</div>"
      ],
      "text/plain": [
       "  Car_Name  Year  Selling_Price  Present_Price  Kms_Driven Fuel_Type  \\\n",
       "0     ritz  2014           3.35           5.59       27000    Petrol   \n",
       "1      sx4  2013           4.75           9.54       43000    Diesel   \n",
       "2     ciaz  2017           7.25           9.85        6900    Petrol   \n",
       "\n",
       "  Seller_Type Transmission  Owner  current_year  No. of Years  \n",
       "0      Dealer       Manual      0          2022             8  \n",
       "1      Dealer       Manual      0          2022             9  \n",
       "2      Dealer       Manual      0          2022             5  "
      ]
     },
     "execution_count": 9,
     "metadata": {},
     "output_type": "execute_result"
    }
   ],
   "source": [
    "df['No. of Years'] = df['current_year'] - df['Year']\n",
    "df.head(3)"
   ]
  },
  {
   "cell_type": "code",
   "execution_count": 10,
   "id": "deaf315d",
   "metadata": {
    "execution": {
     "iopub.execute_input": "2022-01-25T19:16:51.651985Z",
     "iopub.status.busy": "2022-01-25T19:16:51.651318Z",
     "iopub.status.idle": "2022-01-25T19:16:51.666024Z",
     "shell.execute_reply": "2022-01-25T19:16:51.666543Z",
     "shell.execute_reply.started": "2022-01-25T19:15:00.876923Z"
    },
    "id": "rI1GvbcQmo71",
    "outputId": "3027da9b-aeb9-4957-ecb4-b772060729de",
    "papermill": {
     "duration": 0.058666,
     "end_time": "2022-01-25T19:16:51.666717",
     "exception": false,
     "start_time": "2022-01-25T19:16:51.608051",
     "status": "completed"
    },
    "tags": []
   },
   "outputs": [
    {
     "data": {
      "text/html": [
       "<div>\n",
       "<style scoped>\n",
       "    .dataframe tbody tr th:only-of-type {\n",
       "        vertical-align: middle;\n",
       "    }\n",
       "\n",
       "    .dataframe tbody tr th {\n",
       "        vertical-align: top;\n",
       "    }\n",
       "\n",
       "    .dataframe thead th {\n",
       "        text-align: right;\n",
       "    }\n",
       "</style>\n",
       "<table border=\"1\" class=\"dataframe\">\n",
       "  <thead>\n",
       "    <tr style=\"text-align: right;\">\n",
       "      <th></th>\n",
       "      <th>Car_Name</th>\n",
       "      <th>Selling_Price</th>\n",
       "      <th>Present_Price</th>\n",
       "      <th>Kms_Driven</th>\n",
       "      <th>Fuel_Type</th>\n",
       "      <th>Seller_Type</th>\n",
       "      <th>Transmission</th>\n",
       "      <th>Owner</th>\n",
       "      <th>No. of Years</th>\n",
       "    </tr>\n",
       "  </thead>\n",
       "  <tbody>\n",
       "    <tr>\n",
       "      <th>0</th>\n",
       "      <td>ritz</td>\n",
       "      <td>3.35</td>\n",
       "      <td>5.59</td>\n",
       "      <td>27000</td>\n",
       "      <td>Petrol</td>\n",
       "      <td>Dealer</td>\n",
       "      <td>Manual</td>\n",
       "      <td>0</td>\n",
       "      <td>8</td>\n",
       "    </tr>\n",
       "    <tr>\n",
       "      <th>1</th>\n",
       "      <td>sx4</td>\n",
       "      <td>4.75</td>\n",
       "      <td>9.54</td>\n",
       "      <td>43000</td>\n",
       "      <td>Diesel</td>\n",
       "      <td>Dealer</td>\n",
       "      <td>Manual</td>\n",
       "      <td>0</td>\n",
       "      <td>9</td>\n",
       "    </tr>\n",
       "    <tr>\n",
       "      <th>2</th>\n",
       "      <td>ciaz</td>\n",
       "      <td>7.25</td>\n",
       "      <td>9.85</td>\n",
       "      <td>6900</td>\n",
       "      <td>Petrol</td>\n",
       "      <td>Dealer</td>\n",
       "      <td>Manual</td>\n",
       "      <td>0</td>\n",
       "      <td>5</td>\n",
       "    </tr>\n",
       "  </tbody>\n",
       "</table>\n",
       "</div>"
      ],
      "text/plain": [
       "  Car_Name  Selling_Price  Present_Price  Kms_Driven Fuel_Type Seller_Type  \\\n",
       "0     ritz           3.35           5.59       27000    Petrol      Dealer   \n",
       "1      sx4           4.75           9.54       43000    Diesel      Dealer   \n",
       "2     ciaz           7.25           9.85        6900    Petrol      Dealer   \n",
       "\n",
       "  Transmission  Owner  No. of Years  \n",
       "0       Manual      0             8  \n",
       "1       Manual      0             9  \n",
       "2       Manual      0             5  "
      ]
     },
     "execution_count": 10,
     "metadata": {},
     "output_type": "execute_result"
    }
   ],
   "source": [
    "# Year and Current year is not required at this stage since we have calculate the no.of year of the car\n",
    "\n",
    "df.drop(columns = ['Year','current_year'], inplace= True, axis =1 )\n",
    "\n",
    "df.head(3)"
   ]
  },
  {
   "cell_type": "markdown",
   "id": "000eb36c",
   "metadata": {
    "id": "9B9GxiomnbF_",
    "papermill": {
     "duration": 0.042213,
     "end_time": "2022-01-25T19:16:51.750910",
     "exception": false,
     "start_time": "2022-01-25T19:16:51.708697",
     "status": "completed"
    },
    "tags": []
   },
   "source": [
    "Let's Do some EDA"
   ]
  },
  {
   "cell_type": "code",
   "execution_count": 11,
   "id": "54a09016",
   "metadata": {
    "execution": {
     "iopub.execute_input": "2022-01-25T19:16:51.836183Z",
     "iopub.status.busy": "2022-01-25T19:16:51.835516Z",
     "iopub.status.idle": "2022-01-25T19:16:51.841281Z",
     "shell.execute_reply": "2022-01-25T19:16:51.841858Z",
     "shell.execute_reply.started": "2022-01-25T19:15:00.900827Z"
    },
    "id": "j0NnCmODIjCS",
    "outputId": "055dbc82-dfe4-4885-f2cb-8950d74e7692",
    "papermill": {
     "duration": 0.049743,
     "end_time": "2022-01-25T19:16:51.842023",
     "exception": false,
     "start_time": "2022-01-25T19:16:51.792280",
     "status": "completed"
    },
    "tags": []
   },
   "outputs": [
    {
     "name": "stdout",
     "output_type": "stream",
     "text": [
      "['Selling_Price', 'Present_Price', 'Kms_Driven', 'Owner', 'No. of Years']\n"
     ]
    }
   ],
   "source": [
    "numerical_features = [i for i in df.columns if df.dtypes[i]!='O']\n",
    "print(numerical_features)"
   ]
  },
  {
   "cell_type": "code",
   "execution_count": 12,
   "id": "0fab8eb3",
   "metadata": {
    "execution": {
     "iopub.execute_input": "2022-01-25T19:16:51.929326Z",
     "iopub.status.busy": "2022-01-25T19:16:51.928643Z",
     "iopub.status.idle": "2022-01-25T19:16:51.933857Z",
     "shell.execute_reply": "2022-01-25T19:16:51.934429Z",
     "shell.execute_reply.started": "2022-01-25T19:15:00.914399Z"
    },
    "id": "vioT_G9DoZng",
    "outputId": "cc0f72c5-2dc1-4cda-ceff-83644e0e8180",
    "papermill": {
     "duration": 0.049661,
     "end_time": "2022-01-25T19:16:51.934611",
     "exception": false,
     "start_time": "2022-01-25T19:16:51.884950",
     "status": "completed"
    },
    "tags": []
   },
   "outputs": [
    {
     "name": "stdout",
     "output_type": "stream",
     "text": [
      "['Car_Name', 'Fuel_Type', 'Seller_Type', 'Transmission']\n"
     ]
    }
   ],
   "source": [
    "categorical_features = [i for i in df.columns if df.dtypes[i]=='O']\n",
    "print (categorical_features)"
   ]
  },
  {
   "cell_type": "code",
   "execution_count": 13,
   "id": "f9a3287d",
   "metadata": {
    "execution": {
     "iopub.execute_input": "2022-01-25T19:16:52.021421Z",
     "iopub.status.busy": "2022-01-25T19:16:52.020691Z",
     "iopub.status.idle": "2022-01-25T19:16:52.027396Z",
     "shell.execute_reply": "2022-01-25T19:16:52.027961Z",
     "shell.execute_reply.started": "2022-01-25T19:15:00.943224Z"
    },
    "id": "jDIf0leqpLLY",
    "outputId": "3261d762-1f41-4e79-f6f2-33693c02267d",
    "papermill": {
     "duration": 0.052155,
     "end_time": "2022-01-25T19:16:52.028139",
     "exception": false,
     "start_time": "2022-01-25T19:16:51.975984",
     "status": "completed"
    },
    "tags": []
   },
   "outputs": [
    {
     "name": "stdout",
     "output_type": "stream",
     "text": [
      "Car_Name: ['ritz' 'sx4' 'ciaz' 'wagon r' 'swift' 'vitara brezza' 's cross'\n",
      " 'alto 800' 'ertiga' 'dzire' 'alto k10' 'ignis' '800' 'baleno' 'omni'\n",
      " 'fortuner' 'innova' 'corolla altis' 'etios cross' 'etios g' 'etios liva'\n",
      " 'corolla' 'etios gd' 'camry' 'land cruiser' 'Royal Enfield Thunder 500'\n",
      " 'UM Renegade Mojave' 'KTM RC200' 'Bajaj Dominar 400'\n",
      " 'Royal Enfield Classic 350' 'KTM RC390' 'Hyosung GT250R'\n",
      " 'Royal Enfield Thunder 350' 'KTM 390 Duke ' 'Mahindra Mojo XT300'\n",
      " 'Bajaj Pulsar RS200' 'Royal Enfield Bullet 350'\n",
      " 'Royal Enfield Classic 500' 'Bajaj Avenger 220' 'Bajaj Avenger 150'\n",
      " 'Honda CB Hornet 160R' 'Yamaha FZ S V 2.0' 'Yamaha FZ 16'\n",
      " 'TVS Apache RTR 160' 'Bajaj Pulsar 150' 'Honda CBR 150' 'Hero Extreme'\n",
      " 'Bajaj Avenger 220 dtsi' 'Bajaj Avenger 150 street' 'Yamaha FZ  v 2.0'\n",
      " 'Bajaj Pulsar  NS 200' 'Bajaj Pulsar 220 F' 'TVS Apache RTR 180'\n",
      " 'Hero Passion X pro' 'Bajaj Pulsar NS 200' 'Yamaha Fazer '\n",
      " 'Honda Activa 4G' 'TVS Sport ' 'Honda Dream Yuga '\n",
      " 'Bajaj Avenger Street 220' 'Hero Splender iSmart' 'Activa 3g'\n",
      " 'Hero Passion Pro' 'Honda CB Trigger' 'Yamaha FZ S '\n",
      " 'Bajaj Pulsar 135 LS' 'Activa 4g' 'Honda CB Unicorn'\n",
      " 'Hero Honda CBZ extreme' 'Honda Karizma' 'Honda Activa 125' 'TVS Jupyter'\n",
      " 'Hero Honda Passion Pro' 'Hero Splender Plus' 'Honda CB Shine'\n",
      " 'Bajaj Discover 100' 'Suzuki Access 125' 'TVS Wego' 'Honda CB twister'\n",
      " 'Hero Glamour' 'Hero Super Splendor' 'Bajaj Discover 125' 'Hero Hunk'\n",
      " 'Hero  Ignitor Disc' 'Hero  CBZ Xtreme' 'Bajaj  ct 100' 'i20' 'grand i10'\n",
      " 'i10' 'eon' 'xcent' 'elantra' 'creta' 'verna' 'city' 'brio' 'amaze'\n",
      " 'jazz']\n",
      "Fuel_Type: ['Petrol' 'Diesel' 'CNG']\n",
      "Seller_Type: ['Dealer' 'Individual']\n",
      "Transmission: ['Manual' 'Automatic']\n"
     ]
    }
   ],
   "source": [
    "### Extracting Unique features from categorical_features\n",
    "for i in categorical_features:\n",
    "  print ('{}:'.format(i) , df[i].unique())\n"
   ]
  },
  {
   "cell_type": "code",
   "execution_count": 14,
   "id": "fdaaae14",
   "metadata": {
    "execution": {
     "iopub.execute_input": "2022-01-25T19:16:52.115261Z",
     "iopub.status.busy": "2022-01-25T19:16:52.114613Z",
     "iopub.status.idle": "2022-01-25T19:16:52.121792Z",
     "shell.execute_reply": "2022-01-25T19:16:52.122324Z",
     "shell.execute_reply.started": "2022-01-25T19:15:00.953615Z"
    },
    "id": "U77h_nuEwDUL",
    "outputId": "00518991-da7d-451e-896b-652ef641a954",
    "papermill": {
     "duration": 0.052075,
     "end_time": "2022-01-25T19:16:52.122512",
     "exception": false,
     "start_time": "2022-01-25T19:16:52.070437",
     "status": "completed"
    },
    "tags": []
   },
   "outputs": [
    {
     "data": {
      "text/plain": [
       "Fuel_Type\n",
       "Petrol    239\n",
       "Diesel     60\n",
       "CNG         2\n",
       "Name: Car_Name, dtype: int64"
      ]
     },
     "execution_count": 14,
     "metadata": {},
     "output_type": "execute_result"
    }
   ],
   "source": [
    "### Let's see count of Fuel_varient used accross various car model\n",
    "df['Car_Name'].groupby(df['Fuel_Type']).count().sort_values(ascending=False)"
   ]
  },
  {
   "cell_type": "code",
   "execution_count": 15,
   "id": "d01de667",
   "metadata": {
    "execution": {
     "iopub.execute_input": "2022-01-25T19:16:52.211252Z",
     "iopub.status.busy": "2022-01-25T19:16:52.210426Z",
     "iopub.status.idle": "2022-01-25T19:16:52.218324Z",
     "shell.execute_reply": "2022-01-25T19:16:52.218820Z",
     "shell.execute_reply.started": "2022-01-25T19:15:00.964857Z"
    },
    "id": "0uHxForJyApJ",
    "outputId": "0929cc1d-fadb-4239-8222-cb35a3904e29",
    "papermill": {
     "duration": 0.053751,
     "end_time": "2022-01-25T19:16:52.219007",
     "exception": false,
     "start_time": "2022-01-25T19:16:52.165256",
     "status": "completed"
    },
    "tags": []
   },
   "outputs": [
    {
     "data": {
      "text/plain": [
       "Transmission\n",
       "Manual       261\n",
       "Automatic     40\n",
       "Name: Car_Name, dtype: int64"
      ]
     },
     "execution_count": 15,
     "metadata": {},
     "output_type": "execute_result"
    }
   ],
   "source": [
    "### Let's see count of Transmission used accross various car model\n",
    "\n",
    "df['Car_Name'].groupby(df['Transmission']).count().sort_values(ascending=False)"
   ]
  },
  {
   "cell_type": "code",
   "execution_count": 16,
   "id": "6136d92e",
   "metadata": {
    "execution": {
     "iopub.execute_input": "2022-01-25T19:16:52.307642Z",
     "iopub.status.busy": "2022-01-25T19:16:52.306994Z",
     "iopub.status.idle": "2022-01-25T19:16:52.313611Z",
     "shell.execute_reply": "2022-01-25T19:16:52.314094Z",
     "shell.execute_reply.started": "2022-01-25T19:15:00.978235Z"
    },
    "id": "0DFJ0tKeyUE0",
    "outputId": "c46d93fa-d597-442c-cf3c-aadcadb24a04",
    "papermill": {
     "duration": 0.052588,
     "end_time": "2022-01-25T19:16:52.314274",
     "exception": false,
     "start_time": "2022-01-25T19:16:52.261686",
     "status": "completed"
    },
    "tags": []
   },
   "outputs": [
    {
     "data": {
      "text/plain": [
       "Seller_Type\n",
       "Dealer        195\n",
       "Individual    106\n",
       "Name: Car_Name, dtype: int64"
      ]
     },
     "execution_count": 16,
     "metadata": {},
     "output_type": "execute_result"
    }
   ],
   "source": [
    "### Let's see count of Seller_type used accross various car model\n",
    "\n",
    "df['Car_Name'].groupby(df['Seller_Type']).count().sort_values(ascending=False)"
   ]
  },
  {
   "cell_type": "code",
   "execution_count": 17,
   "id": "ca994925",
   "metadata": {
    "execution": {
     "iopub.execute_input": "2022-01-25T19:16:52.405210Z",
     "iopub.status.busy": "2022-01-25T19:16:52.404563Z",
     "iopub.status.idle": "2022-01-25T19:16:57.908008Z",
     "shell.execute_reply": "2022-01-25T19:16:57.908508Z",
     "shell.execute_reply.started": "2022-01-25T19:15:00.988152Z"
    },
    "id": "rp3XSsnjkj6A",
    "outputId": "297dfd00-b041-4cd5-830b-2f8930d30c2d",
    "papermill": {
     "duration": 5.550167,
     "end_time": "2022-01-25T19:16:57.908689",
     "exception": false,
     "start_time": "2022-01-25T19:16:52.358522",
     "status": "completed"
    },
    "tags": []
   },
   "outputs": [
    {
     "data": {
      "text/plain": [
       "<seaborn.axisgrid.PairGrid at 0x7fccca713190>"
      ]
     },
     "execution_count": 17,
     "metadata": {},
     "output_type": "execute_result"
    },
    {
     "data": {
      "image/png": "[encoded data removed]",
      "text/plain": [
       "<Figure size 900x900 with 30 Axes>"
      ]
     },
     "metadata": {
      "needs_background": "light"
     },
     "output_type": "display_data"
    }
   ],
   "source": [
    "sns.pairplot(df)"
   ]
  },
  {
   "cell_type": "code",
   "execution_count": 18,
   "id": "412a3d2a",
   "metadata": {
    "execution": {
     "iopub.execute_input": "2022-01-25T19:16:58.014245Z",
     "iopub.status.busy": "2022-01-25T19:16:58.004667Z",
     "iopub.status.idle": "2022-01-25T19:16:58.314326Z",
     "shell.execute_reply": "2022-01-25T19:16:58.314833Z",
     "shell.execute_reply.started": "2022-01-25T19:15:06.053332Z"
    },
    "id": "2IyhXNmvyl1w",
    "outputId": "3058fe2a-f9eb-4991-d0a1-5f12083f9c81",
    "papermill": {
     "duration": 0.35976,
     "end_time": "2022-01-25T19:16:58.315008",
     "exception": false,
     "start_time": "2022-01-25T19:16:57.955248",
     "status": "completed"
    },
    "tags": []
   },
   "outputs": [
    {
     "data": {
      "text/plain": [
       "<AxesSubplot:xlabel='count', ylabel='Car_Name'>"
      ]
     },
     "execution_count": 18,
     "metadata": {},
     "output_type": "execute_result"
    },
    {
     "data": {
      "image/png": "[encoded data removed]",
      "text/plain": [
       "<Figure size 720x504 with 1 Axes>"
      ]
     },
     "metadata": {
      "needs_background": "light"
     },
     "output_type": "display_data"
    }
   ],
   "source": [
    "### Top 5 Model using Fuel_Type\n",
    "\n",
    "plt.figure (figsize=(10,7))\n",
    "sns.countplot(y='Car_Name', hue='Fuel_Type', data=df, order=df['Car_Name'].value_counts().iloc[:5].index)"
   ]
  },
  {
   "cell_type": "code",
   "execution_count": 19,
   "id": "af56b9b2",
   "metadata": {
    "execution": {
     "iopub.execute_input": "2022-01-25T19:16:58.413479Z",
     "iopub.status.busy": "2022-01-25T19:16:58.412833Z",
     "iopub.status.idle": "2022-01-25T19:16:58.679200Z",
     "shell.execute_reply": "2022-01-25T19:16:58.679697Z",
     "shell.execute_reply.started": "2022-01-25T19:15:06.346475Z"
    },
    "id": "v2CikFGi1VRD",
    "outputId": "e46b617f-1133-4175-89b0-e08b27fdea92",
    "papermill": {
     "duration": 0.317372,
     "end_time": "2022-01-25T19:16:58.679902",
     "exception": false,
     "start_time": "2022-01-25T19:16:58.362530",
     "status": "completed"
    },
    "tags": []
   },
   "outputs": [
    {
     "data": {
      "text/plain": [
       "<AxesSubplot:xlabel='count', ylabel='Car_Name'>"
      ]
     },
     "execution_count": 19,
     "metadata": {},
     "output_type": "execute_result"
    },
    {
     "data": {
      "image/png": "[encoded data removed]",
      "text/plain": [
       "<Figure size 720x504 with 1 Axes>"
      ]
     },
     "metadata": {
      "needs_background": "light"
     },
     "output_type": "display_data"
    }
   ],
   "source": [
    "### Top 5 Model using Transmission\n",
    "\n",
    "plt.figure (figsize=(10,7))\n",
    "sns.countplot(y='Car_Name', hue='Transmission', data=df, order=df['Car_Name'].value_counts().iloc[:5].index)"
   ]
  },
  {
   "cell_type": "code",
   "execution_count": 20,
   "id": "7c799d21",
   "metadata": {
    "execution": {
     "iopub.execute_input": "2022-01-25T19:16:58.786387Z",
     "iopub.status.busy": "2022-01-25T19:16:58.785650Z",
     "iopub.status.idle": "2022-01-25T19:16:59.835673Z",
     "shell.execute_reply": "2022-01-25T19:16:59.834966Z",
     "shell.execute_reply.started": "2022-01-25T19:15:06.604205Z"
    },
    "id": "Mk6W3_tH2RD5",
    "outputId": "e85e8f54-c315-49ad-cbcc-e233f7ddcb9d",
    "papermill": {
     "duration": 1.106997,
     "end_time": "2022-01-25T19:16:59.835856",
     "exception": false,
     "start_time": "2022-01-25T19:16:58.728859",
     "status": "completed"
    },
    "tags": []
   },
   "outputs": [
    {
     "data": {
      "image/png": "[encoded data removed]",
      "text/plain": [
       "<Figure size 1080x432 with 1 Axes>"
      ]
     },
     "metadata": {
      "needs_background": "light"
     },
     "output_type": "display_data"
    }
   ],
   "source": [
    "###LEt's see Top 10 car model's selling price using Fuel_type\n",
    "fig, ax = plt.subplots(figsize=(15,6))\n",
    "ax = sns.barplot(y='Selling_Price', x='Car_Name', data=df, hue='Fuel_Type', order=df['Car_Name'].value_counts().iloc[:10].index)"
   ]
  },
  {
   "cell_type": "code",
   "execution_count": 21,
   "id": "ea4efb86",
   "metadata": {
    "execution": {
     "iopub.execute_input": "2022-01-25T19:16:59.939002Z",
     "iopub.status.busy": "2022-01-25T19:16:59.938291Z",
     "iopub.status.idle": "2022-01-25T19:17:00.494455Z",
     "shell.execute_reply": "2022-01-25T19:17:00.493718Z",
     "shell.execute_reply.started": "2022-01-25T19:15:07.442977Z"
    },
    "id": "vqFLHbKp3XGN",
    "outputId": "b707c82a-e053-4916-aaeb-e6aeaa0ac1fe",
    "papermill": {
     "duration": 0.608876,
     "end_time": "2022-01-25T19:17:00.494607",
     "exception": false,
     "start_time": "2022-01-25T19:16:59.885731",
     "status": "completed"
    },
    "tags": []
   },
   "outputs": [
    {
     "data": {
      "image/png": "[encoded data removed]",
      "text/plain": [
       "<Figure size 1080x432 with 1 Axes>"
      ]
     },
     "metadata": {
      "needs_background": "light"
     },
     "output_type": "display_data"
    }
   ],
   "source": [
    "### Let's see whether Kms_Driven affects selling Price\n",
    "fig, ax = plt.subplots(figsize=(15,6))\n",
    "ax = sns.barplot(y='Selling_Price', x='Kms_Driven', data=df, order=df['Kms_Driven'].sort_values(ascending=True).value_counts().iloc[:10].index )"
   ]
  },
  {
   "cell_type": "code",
   "execution_count": 22,
   "id": "5d286a5d",
   "metadata": {
    "execution": {
     "iopub.execute_input": "2022-01-25T19:17:00.603892Z",
     "iopub.status.busy": "2022-01-25T19:17:00.602797Z",
     "iopub.status.idle": "2022-01-25T19:17:01.109398Z",
     "shell.execute_reply": "2022-01-25T19:17:01.108835Z",
     "shell.execute_reply.started": "2022-01-25T19:15:07.894474Z"
    },
    "id": "JZD7v0mw5Epi",
    "outputId": "5d6ee926-b59e-48a2-89af-146bfc0da2f6",
    "papermill": {
     "duration": 0.564676,
     "end_time": "2022-01-25T19:17:01.109536",
     "exception": false,
     "start_time": "2022-01-25T19:17:00.544860",
     "status": "completed"
    },
    "tags": []
   },
   "outputs": [
    {
     "data": {
      "image/png": "[encoded data removed]",
      "text/plain": [
       "<Figure size 1440x216 with 1 Axes>"
      ]
     },
     "metadata": {
      "needs_background": "light"
     },
     "output_type": "display_data"
    }
   ],
   "source": [
    "###Box plot to find outliers\n",
    "\n",
    "fig, ax = plt.subplots(figsize=(20,3))\n",
    "ax = sns.boxplot(x=\"Kms_Driven\", y=\"Selling_Price\", data=df, order=df['Kms_Driven'].sort_values(ascending=True).value_counts().iloc[:10].index)"
   ]
  },
  {
   "cell_type": "code",
   "execution_count": 23,
   "id": "130552f1",
   "metadata": {
    "execution": {
     "iopub.execute_input": "2022-01-25T19:17:01.216050Z",
     "iopub.status.busy": "2022-01-25T19:17:01.215025Z",
     "iopub.status.idle": "2022-01-25T19:17:01.223976Z",
     "shell.execute_reply": "2022-01-25T19:17:01.224565Z",
     "shell.execute_reply.started": "2022-01-25T19:15:08.373809Z"
    },
    "id": "5VsgJvv-Gtlg",
    "outputId": "07e1fb14-253d-41fe-db0b-0b99ca648b72",
    "papermill": {
     "duration": 0.063804,
     "end_time": "2022-01-25T19:17:01.224736",
     "exception": false,
     "start_time": "2022-01-25T19:17:01.160932",
     "status": "completed"
    },
    "tags": []
   },
   "outputs": [
    {
     "name": "stdout",
     "output_type": "stream",
     "text": [
      "               Selling_Price  Present_Price  Kms_Driven     Owner  \\\n",
      "Selling_Price       1.000000       0.878983    0.029187 -0.088344   \n",
      "Present_Price       0.878983       1.000000    0.203647  0.008057   \n",
      "Kms_Driven          0.029187       0.203647    1.000000  0.089216   \n",
      "Owner              -0.088344       0.008057    0.089216  1.000000   \n",
      "No. of Years       -0.236141       0.047584    0.524342  0.182104   \n",
      "\n",
      "               No. of Years  \n",
      "Selling_Price     -0.236141  \n",
      "Present_Price      0.047584  \n",
      "Kms_Driven         0.524342  \n",
      "Owner              0.182104  \n",
      "No. of Years       1.000000  \n"
     ]
    }
   ],
   "source": [
    "print(df.corr())"
   ]
  },
  {
   "cell_type": "code",
   "execution_count": 24,
   "id": "f80bcaf9",
   "metadata": {
    "execution": {
     "iopub.execute_input": "2022-01-25T19:17:01.353732Z",
     "iopub.status.busy": "2022-01-25T19:17:01.333799Z",
     "iopub.status.idle": "2022-01-25T19:17:01.654289Z",
     "shell.execute_reply": "2022-01-25T19:17:01.653755Z",
     "shell.execute_reply.started": "2022-01-25T19:15:08.386821Z"
    },
    "id": "WXZYbbhCLJsM",
    "outputId": "5c88510c-1438-4db9-ed30-c915ee6d0404",
    "papermill": {
     "duration": 0.377282,
     "end_time": "2022-01-25T19:17:01.654427",
     "exception": false,
     "start_time": "2022-01-25T19:17:01.277145",
     "status": "completed"
    },
    "tags": []
   },
   "outputs": [
    {
     "data": {
      "image/png": "[encoded data removed]",
      "text/plain": [
       "<Figure size 432x288 with 2 Axes>"
      ]
     },
     "metadata": {
      "needs_background": "light"
     },
     "output_type": "display_data"
    }
   ],
   "source": [
    "dataplot = sns.heatmap( df.corr(), cmap=\"YlGnBu\", annot= True )\n",
    "plt.show()"
   ]
  },
  {
   "cell_type": "markdown",
   "id": "66c61fc5",
   "metadata": {
    "id": "augl91j-a91s",
    "papermill": {
     "duration": 0.058323,
     "end_time": "2022-01-25T19:17:01.765516",
     "exception": false,
     "start_time": "2022-01-25T19:17:01.707193",
     "status": "completed"
    },
    "tags": []
   },
   "source": [
    "### Feature Engineering Part"
   ]
  },
  {
   "cell_type": "code",
   "execution_count": 25,
   "id": "709b1f3b",
   "metadata": {
    "execution": {
     "iopub.execute_input": "2022-01-25T19:17:01.898364Z",
     "iopub.status.busy": "2022-01-25T19:17:01.897378Z",
     "iopub.status.idle": "2022-01-25T19:17:02.155609Z",
     "shell.execute_reply": "2022-01-25T19:17:02.156166Z",
     "shell.execute_reply.started": "2022-01-25T19:15:08.698710Z"
    },
    "id": "W4gp_X0kaxKD",
    "outputId": "21271d67-1f22-403d-95f9-363523f7807a",
    "papermill": {
     "duration": 0.319569,
     "end_time": "2022-01-25T19:17:02.156366",
     "exception": false,
     "start_time": "2022-01-25T19:17:01.836797",
     "status": "completed"
    },
    "tags": []
   },
   "outputs": [
    {
     "data": {
      "text/plain": [
       "<AxesSubplot:>"
      ]
     },
     "execution_count": 25,
     "metadata": {},
     "output_type": "execute_result"
    },
    {
     "data": {
      "image/png": "[encoded data removed]",
      "text/plain": [
       "<Figure size 432x288 with 1 Axes>"
      ]
     },
     "metadata": {
      "needs_background": "light"
     },
     "output_type": "display_data"
    }
   ],
   "source": [
    "df.plot(kind='box')"
   ]
  },
  {
   "cell_type": "code",
   "execution_count": 26,
   "id": "85ff1c1b",
   "metadata": {
    "execution": {
     "iopub.execute_input": "2022-01-25T19:17:02.269933Z",
     "iopub.status.busy": "2022-01-25T19:17:02.269270Z",
     "iopub.status.idle": "2022-01-25T19:17:02.438850Z",
     "shell.execute_reply": "2022-01-25T19:17:02.438303Z",
     "shell.execute_reply.started": "2022-01-25T19:15:08.956576Z"
    },
    "id": "puQViHMoL27z",
    "outputId": "86e75dab-d709-475d-a65e-cef74d7a258e",
    "papermill": {
     "duration": 0.228557,
     "end_time": "2022-01-25T19:17:02.439007",
     "exception": false,
     "start_time": "2022-01-25T19:17:02.210450",
     "status": "completed"
    },
    "tags": []
   },
   "outputs": [
    {
     "name": "stderr",
     "output_type": "stream",
     "text": [
      "/opt/conda/lib/python3.7/site-packages/seaborn/_decorators.py:43: FutureWarning: Pass the following variable as a keyword arg: x. From version 0.12, the only valid positional argument will be `data`, and passing other arguments without an explicit keyword will result in an error or misinterpretation.\n",
      "  FutureWarning\n"
     ]
    },
    {
     "data": {
      "text/plain": [
       "<AxesSubplot:xlabel='Kms_Driven'>"
      ]
     },
     "execution_count": 26,
     "metadata": {},
     "output_type": "execute_result"
    },
    {
     "data": {
      "image/png": "[encoded data removed]",
      "text/plain": [
       "<Figure size 432x288 with 1 Axes>"
      ]
     },
     "metadata": {
      "needs_background": "light"
     },
     "output_type": "display_data"
    }
   ],
   "source": [
    "sns.boxplot(df['Kms_Driven'])"
   ]
  },
  {
   "cell_type": "code",
   "execution_count": 27,
   "id": "982f7728",
   "metadata": {
    "execution": {
     "iopub.execute_input": "2022-01-25T19:17:02.555038Z",
     "iopub.status.busy": "2022-01-25T19:17:02.554201Z",
     "iopub.status.idle": "2022-01-25T19:17:02.557296Z",
     "shell.execute_reply": "2022-01-25T19:17:02.557781Z",
     "shell.execute_reply.started": "2022-01-25T19:15:09.134352Z"
    },
    "id": "l1d2BsL-M768",
    "outputId": "b16e09c3-ef3a-40d6-8f8a-b113d610e693",
    "papermill": {
     "duration": 0.063848,
     "end_time": "2022-01-25T19:17:02.557975",
     "exception": false,
     "start_time": "2022-01-25T19:17:02.494127",
     "status": "completed"
    },
    "tags": []
   },
   "outputs": [
    {
     "name": "stdout",
     "output_type": "stream",
     "text": [
      "(array([196]),)\n"
     ]
    }
   ],
   "source": [
    "print(np.where(df['Kms_Driven']>400000))"
   ]
  },
  {
   "cell_type": "code",
   "execution_count": 28,
   "id": "21309ed9",
   "metadata": {
    "execution": {
     "iopub.execute_input": "2022-01-25T19:17:02.675269Z",
     "iopub.status.busy": "2022-01-25T19:17:02.674587Z",
     "iopub.status.idle": "2022-01-25T19:17:02.680112Z",
     "shell.execute_reply": "2022-01-25T19:17:02.680615Z",
     "shell.execute_reply.started": "2022-01-25T19:15:09.141135Z"
    },
    "id": "Y6sKAz2rQZDO",
    "outputId": "04c6de30-75e8-4205-bd40-28300e93a3bd",
    "papermill": {
     "duration": 0.067528,
     "end_time": "2022-01-25T19:17:02.680789",
     "exception": false,
     "start_time": "2022-01-25T19:17:02.613261",
     "status": "completed"
    },
    "tags": []
   },
   "outputs": [
    {
     "name": "stdout",
     "output_type": "stream",
     "text": [
      "0      0.256224\n",
      "1      0.155911\n",
      "2      0.773969\n",
      "3      0.817758\n",
      "4      0.141743\n",
      "         ...   \n",
      "296    0.076225\n",
      "297    0.593804\n",
      "298    1.313340\n",
      "299    0.719876\n",
      "300    0.810958\n",
      "Name: Kms_Driven, Length: 301, dtype: float64\n"
     ]
    }
   ],
   "source": [
    "from scipy import stats\n",
    "z = np.abs(stats.zscore(df['Kms_Driven']))\n",
    "print(z)"
   ]
  },
  {
   "cell_type": "code",
   "execution_count": 29,
   "id": "535fb3cd",
   "metadata": {
    "execution": {
     "iopub.execute_input": "2022-01-25T19:17:02.800306Z",
     "iopub.status.busy": "2022-01-25T19:17:02.799598Z",
     "iopub.status.idle": "2022-01-25T19:17:02.803583Z",
     "shell.execute_reply": "2022-01-25T19:17:02.803055Z",
     "shell.execute_reply.started": "2022-01-25T19:15:09.165404Z"
    },
    "id": "AP34RinxQ1rs",
    "outputId": "a85a59bc-8b73-46d0-ec68-4fd3b41b90c1",
    "papermill": {
     "duration": 0.067014,
     "end_time": "2022-01-25T19:17:02.803737",
     "exception": false,
     "start_time": "2022-01-25T19:17:02.736723",
     "status": "completed"
    },
    "tags": []
   },
   "outputs": [
    {
     "name": "stdout",
     "output_type": "stream",
     "text": [
      "[[ 84 179 196]]\n",
      "[ 84 179 196]\n"
     ]
    }
   ],
   "source": [
    "Threshold = 3\n",
    "z1=np.where(z>3)\n",
    "z2=np.array(z1)\n",
    "print(z2)\n",
    "z3 = z2.flatten()\n",
    "print(z3)"
   ]
  },
  {
   "cell_type": "code",
   "execution_count": 30,
   "id": "61f83a43",
   "metadata": {
    "execution": {
     "iopub.execute_input": "2022-01-25T19:17:02.920853Z",
     "iopub.status.busy": "2022-01-25T19:17:02.920198Z",
     "iopub.status.idle": "2022-01-25T19:17:02.923109Z",
     "shell.execute_reply": "2022-01-25T19:17:02.922499Z",
     "shell.execute_reply.started": "2022-01-25T19:15:09.175557Z"
    },
    "id": "wHoxmB6BOUVM",
    "outputId": "71fd76cf-ea36-4b91-cd0b-5e41df8981da",
    "papermill": {
     "duration": 0.063047,
     "end_time": "2022-01-25T19:17:02.923242",
     "exception": false,
     "start_time": "2022-01-25T19:17:02.860195",
     "status": "completed"
    },
    "tags": []
   },
   "outputs": [
    {
     "name": "stdout",
     "output_type": "stream",
     "text": [
      "Old Shape: (301, 9)\n"
     ]
    }
   ],
   "source": [
    "print('Old Shape:', df.shape)"
   ]
  },
  {
   "cell_type": "code",
   "execution_count": 31,
   "id": "ea1bf6b7",
   "metadata": {
    "execution": {
     "iopub.execute_input": "2022-01-25T19:17:03.060362Z",
     "iopub.status.busy": "2022-01-25T19:17:03.059599Z",
     "iopub.status.idle": "2022-01-25T19:17:03.064168Z",
     "shell.execute_reply": "2022-01-25T19:17:03.063611Z",
     "shell.execute_reply.started": "2022-01-25T19:15:09.190547Z"
    },
    "id": "_HzHe4k9W3lB",
    "outputId": "d15dc6ad-18d8-44bf-d789-cf379e201cf2",
    "papermill": {
     "duration": 0.085205,
     "end_time": "2022-01-25T19:17:03.064310",
     "exception": false,
     "start_time": "2022-01-25T19:17:02.979105",
     "status": "completed"
    },
    "tags": []
   },
   "outputs": [
    {
     "data": {
      "text/html": [
       "<div>\n",
       "<style scoped>\n",
       "    .dataframe tbody tr th:only-of-type {\n",
       "        vertical-align: middle;\n",
       "    }\n",
       "\n",
       "    .dataframe tbody tr th {\n",
       "        vertical-align: top;\n",
       "    }\n",
       "\n",
       "    .dataframe thead th {\n",
       "        text-align: right;\n",
       "    }\n",
       "</style>\n",
       "<table border=\"1\" class=\"dataframe\">\n",
       "  <thead>\n",
       "    <tr style=\"text-align: right;\">\n",
       "      <th></th>\n",
       "      <th>Car_Name</th>\n",
       "      <th>Selling_Price</th>\n",
       "      <th>Present_Price</th>\n",
       "      <th>Kms_Driven</th>\n",
       "      <th>Fuel_Type</th>\n",
       "      <th>Seller_Type</th>\n",
       "      <th>Transmission</th>\n",
       "      <th>Owner</th>\n",
       "      <th>No. of Years</th>\n",
       "    </tr>\n",
       "  </thead>\n",
       "  <tbody>\n",
       "    <tr>\n",
       "      <th>0</th>\n",
       "      <td>ritz</td>\n",
       "      <td>3.35</td>\n",
       "      <td>5.59</td>\n",
       "      <td>27000</td>\n",
       "      <td>Petrol</td>\n",
       "      <td>Dealer</td>\n",
       "      <td>Manual</td>\n",
       "      <td>0</td>\n",
       "      <td>8</td>\n",
       "    </tr>\n",
       "    <tr>\n",
       "      <th>1</th>\n",
       "      <td>sx4</td>\n",
       "      <td>4.75</td>\n",
       "      <td>9.54</td>\n",
       "      <td>43000</td>\n",
       "      <td>Diesel</td>\n",
       "      <td>Dealer</td>\n",
       "      <td>Manual</td>\n",
       "      <td>0</td>\n",
       "      <td>9</td>\n",
       "    </tr>\n",
       "    <tr>\n",
       "      <th>2</th>\n",
       "      <td>ciaz</td>\n",
       "      <td>7.25</td>\n",
       "      <td>9.85</td>\n",
       "      <td>6900</td>\n",
       "      <td>Petrol</td>\n",
       "      <td>Dealer</td>\n",
       "      <td>Manual</td>\n",
       "      <td>0</td>\n",
       "      <td>5</td>\n",
       "    </tr>\n",
       "    <tr>\n",
       "      <th>3</th>\n",
       "      <td>wagon r</td>\n",
       "      <td>2.85</td>\n",
       "      <td>4.15</td>\n",
       "      <td>5200</td>\n",
       "      <td>Petrol</td>\n",
       "      <td>Dealer</td>\n",
       "      <td>Manual</td>\n",
       "      <td>0</td>\n",
       "      <td>11</td>\n",
       "    </tr>\n",
       "    <tr>\n",
       "      <th>4</th>\n",
       "      <td>swift</td>\n",
       "      <td>4.60</td>\n",
       "      <td>6.87</td>\n",
       "      <td>42450</td>\n",
       "      <td>Diesel</td>\n",
       "      <td>Dealer</td>\n",
       "      <td>Manual</td>\n",
       "      <td>0</td>\n",
       "      <td>8</td>\n",
       "    </tr>\n",
       "    <tr>\n",
       "      <th>...</th>\n",
       "      <td>...</td>\n",
       "      <td>...</td>\n",
       "      <td>...</td>\n",
       "      <td>...</td>\n",
       "      <td>...</td>\n",
       "      <td>...</td>\n",
       "      <td>...</td>\n",
       "      <td>...</td>\n",
       "      <td>...</td>\n",
       "    </tr>\n",
       "    <tr>\n",
       "      <th>296</th>\n",
       "      <td>city</td>\n",
       "      <td>9.50</td>\n",
       "      <td>11.60</td>\n",
       "      <td>33988</td>\n",
       "      <td>Diesel</td>\n",
       "      <td>Dealer</td>\n",
       "      <td>Manual</td>\n",
       "      <td>0</td>\n",
       "      <td>6</td>\n",
       "    </tr>\n",
       "    <tr>\n",
       "      <th>297</th>\n",
       "      <td>brio</td>\n",
       "      <td>4.00</td>\n",
       "      <td>5.90</td>\n",
       "      <td>60000</td>\n",
       "      <td>Petrol</td>\n",
       "      <td>Dealer</td>\n",
       "      <td>Manual</td>\n",
       "      <td>0</td>\n",
       "      <td>7</td>\n",
       "    </tr>\n",
       "    <tr>\n",
       "      <th>298</th>\n",
       "      <td>city</td>\n",
       "      <td>3.35</td>\n",
       "      <td>11.00</td>\n",
       "      <td>87934</td>\n",
       "      <td>Petrol</td>\n",
       "      <td>Dealer</td>\n",
       "      <td>Manual</td>\n",
       "      <td>0</td>\n",
       "      <td>13</td>\n",
       "    </tr>\n",
       "    <tr>\n",
       "      <th>299</th>\n",
       "      <td>city</td>\n",
       "      <td>11.50</td>\n",
       "      <td>12.50</td>\n",
       "      <td>9000</td>\n",
       "      <td>Diesel</td>\n",
       "      <td>Dealer</td>\n",
       "      <td>Manual</td>\n",
       "      <td>0</td>\n",
       "      <td>5</td>\n",
       "    </tr>\n",
       "    <tr>\n",
       "      <th>300</th>\n",
       "      <td>brio</td>\n",
       "      <td>5.30</td>\n",
       "      <td>5.90</td>\n",
       "      <td>5464</td>\n",
       "      <td>Petrol</td>\n",
       "      <td>Dealer</td>\n",
       "      <td>Manual</td>\n",
       "      <td>0</td>\n",
       "      <td>6</td>\n",
       "    </tr>\n",
       "  </tbody>\n",
       "</table>\n",
       "<p>298 rows × 9 columns</p>\n",
       "</div>"
      ],
      "text/plain": [
       "    Car_Name  Selling_Price  Present_Price  Kms_Driven Fuel_Type Seller_Type  \\\n",
       "0       ritz           3.35           5.59       27000    Petrol      Dealer   \n",
       "1        sx4           4.75           9.54       43000    Diesel      Dealer   \n",
       "2       ciaz           7.25           9.85        6900    Petrol      Dealer   \n",
       "3    wagon r           2.85           4.15        5200    Petrol      Dealer   \n",
       "4      swift           4.60           6.87       42450    Diesel      Dealer   \n",
       "..       ...            ...            ...         ...       ...         ...   \n",
       "296     city           9.50          11.60       33988    Diesel      Dealer   \n",
       "297     brio           4.00           5.90       60000    Petrol      Dealer   \n",
       "298     city           3.35          11.00       87934    Petrol      Dealer   \n",
       "299     city          11.50          12.50        9000    Diesel      Dealer   \n",
       "300     brio           5.30           5.90        5464    Petrol      Dealer   \n",
       "\n",
       "    Transmission  Owner  No. of Years  \n",
       "0         Manual      0             8  \n",
       "1         Manual      0             9  \n",
       "2         Manual      0             5  \n",
       "3         Manual      0            11  \n",
       "4         Manual      0             8  \n",
       "..           ...    ...           ...  \n",
       "296       Manual      0             6  \n",
       "297       Manual      0             7  \n",
       "298       Manual      0            13  \n",
       "299       Manual      0             5  \n",
       "300       Manual      0             6  \n",
       "\n",
       "[298 rows x 9 columns]"
      ]
     },
     "execution_count": 31,
     "metadata": {},
     "output_type": "execute_result"
    }
   ],
   "source": [
    "df.drop(z3, inplace=True, axis=0)\n",
    "df"
   ]
  },
  {
   "cell_type": "code",
   "execution_count": 32,
   "id": "86863233",
   "metadata": {
    "execution": {
     "iopub.execute_input": "2022-01-25T19:17:03.183428Z",
     "iopub.status.busy": "2022-01-25T19:17:03.182724Z",
     "iopub.status.idle": "2022-01-25T19:17:03.186382Z",
     "shell.execute_reply": "2022-01-25T19:17:03.185883Z",
     "shell.execute_reply.started": "2022-01-25T19:15:09.219981Z"
    },
    "id": "c9pkeyEhadgD",
    "outputId": "fe86f832-b0f0-4aa1-e247-76182ae5c624",
    "papermill": {
     "duration": 0.06521,
     "end_time": "2022-01-25T19:17:03.186535",
     "exception": false,
     "start_time": "2022-01-25T19:17:03.121325",
     "status": "completed"
    },
    "tags": []
   },
   "outputs": [
    {
     "name": "stdout",
     "output_type": "stream",
     "text": [
      "New Shape: (298, 9)\n"
     ]
    }
   ],
   "source": [
    "print('New Shape:',df.shape)"
   ]
  },
  {
   "cell_type": "markdown",
   "id": "17a9980f",
   "metadata": {
    "id": "QnrYgsrabEJR",
    "papermill": {
     "duration": 0.057476,
     "end_time": "2022-01-25T19:17:03.302199",
     "exception": false,
     "start_time": "2022-01-25T19:17:03.244723",
     "status": "completed"
    },
    "tags": []
   },
   "source": [
    "### Feature Selection"
   ]
  },
  {
   "cell_type": "code",
   "execution_count": 33,
   "id": "c7066125",
   "metadata": {
    "execution": {
     "iopub.execute_input": "2022-01-25T19:17:03.423244Z",
     "iopub.status.busy": "2022-01-25T19:17:03.422539Z",
     "iopub.status.idle": "2022-01-25T19:17:03.425208Z",
     "shell.execute_reply": "2022-01-25T19:17:03.425715Z",
     "shell.execute_reply.started": "2022-01-25T19:15:09.226476Z"
    },
    "id": "Ky-TiReLbtbw",
    "papermill": {
     "duration": 0.066605,
     "end_time": "2022-01-25T19:17:03.425917",
     "exception": false,
     "start_time": "2022-01-25T19:17:03.359312",
     "status": "completed"
    },
    "tags": []
   },
   "outputs": [],
   "source": [
    "df.drop(['Car_Name'], inplace=True, axis=1)\n"
   ]
  },
  {
   "cell_type": "code",
   "execution_count": 34,
   "id": "a7e1fb1c",
   "metadata": {
    "execution": {
     "iopub.execute_input": "2022-01-25T19:17:03.555417Z",
     "iopub.status.busy": "2022-01-25T19:17:03.554690Z",
     "iopub.status.idle": "2022-01-25T19:17:03.559022Z",
     "shell.execute_reply": "2022-01-25T19:17:03.558381Z",
     "shell.execute_reply.started": "2022-01-25T19:15:09.241538Z"
    },
    "id": "thCyc2WmcK7h",
    "outputId": "0293e30e-333a-4ec0-a3de-1d608827a14d",
    "papermill": {
     "duration": 0.076118,
     "end_time": "2022-01-25T19:17:03.559164",
     "exception": false,
     "start_time": "2022-01-25T19:17:03.483046",
     "status": "completed"
    },
    "tags": []
   },
   "outputs": [
    {
     "data": {
      "text/html": [
       "<div>\n",
       "<style scoped>\n",
       "    .dataframe tbody tr th:only-of-type {\n",
       "        vertical-align: middle;\n",
       "    }\n",
       "\n",
       "    .dataframe tbody tr th {\n",
       "        vertical-align: top;\n",
       "    }\n",
       "\n",
       "    .dataframe thead th {\n",
       "        text-align: right;\n",
       "    }\n",
       "</style>\n",
       "<table border=\"1\" class=\"dataframe\">\n",
       "  <thead>\n",
       "    <tr style=\"text-align: right;\">\n",
       "      <th></th>\n",
       "      <th>Selling_Price</th>\n",
       "      <th>Present_Price</th>\n",
       "      <th>Kms_Driven</th>\n",
       "      <th>Fuel_Type</th>\n",
       "      <th>Seller_Type</th>\n",
       "      <th>Transmission</th>\n",
       "      <th>Owner</th>\n",
       "      <th>No. of Years</th>\n",
       "    </tr>\n",
       "  </thead>\n",
       "  <tbody>\n",
       "    <tr>\n",
       "      <th>0</th>\n",
       "      <td>3.35</td>\n",
       "      <td>5.59</td>\n",
       "      <td>27000</td>\n",
       "      <td>Petrol</td>\n",
       "      <td>Dealer</td>\n",
       "      <td>Manual</td>\n",
       "      <td>0</td>\n",
       "      <td>8</td>\n",
       "    </tr>\n",
       "    <tr>\n",
       "      <th>1</th>\n",
       "      <td>4.75</td>\n",
       "      <td>9.54</td>\n",
       "      <td>43000</td>\n",
       "      <td>Diesel</td>\n",
       "      <td>Dealer</td>\n",
       "      <td>Manual</td>\n",
       "      <td>0</td>\n",
       "      <td>9</td>\n",
       "    </tr>\n",
       "    <tr>\n",
       "      <th>2</th>\n",
       "      <td>7.25</td>\n",
       "      <td>9.85</td>\n",
       "      <td>6900</td>\n",
       "      <td>Petrol</td>\n",
       "      <td>Dealer</td>\n",
       "      <td>Manual</td>\n",
       "      <td>0</td>\n",
       "      <td>5</td>\n",
       "    </tr>\n",
       "    <tr>\n",
       "      <th>3</th>\n",
       "      <td>2.85</td>\n",
       "      <td>4.15</td>\n",
       "      <td>5200</td>\n",
       "      <td>Petrol</td>\n",
       "      <td>Dealer</td>\n",
       "      <td>Manual</td>\n",
       "      <td>0</td>\n",
       "      <td>11</td>\n",
       "    </tr>\n",
       "    <tr>\n",
       "      <th>4</th>\n",
       "      <td>4.60</td>\n",
       "      <td>6.87</td>\n",
       "      <td>42450</td>\n",
       "      <td>Diesel</td>\n",
       "      <td>Dealer</td>\n",
       "      <td>Manual</td>\n",
       "      <td>0</td>\n",
       "      <td>8</td>\n",
       "    </tr>\n",
       "    <tr>\n",
       "      <th>5</th>\n",
       "      <td>9.25</td>\n",
       "      <td>9.83</td>\n",
       "      <td>2071</td>\n",
       "      <td>Diesel</td>\n",
       "      <td>Dealer</td>\n",
       "      <td>Manual</td>\n",
       "      <td>0</td>\n",
       "      <td>4</td>\n",
       "    </tr>\n",
       "    <tr>\n",
       "      <th>6</th>\n",
       "      <td>6.75</td>\n",
       "      <td>8.12</td>\n",
       "      <td>18796</td>\n",
       "      <td>Petrol</td>\n",
       "      <td>Dealer</td>\n",
       "      <td>Manual</td>\n",
       "      <td>0</td>\n",
       "      <td>7</td>\n",
       "    </tr>\n",
       "    <tr>\n",
       "      <th>7</th>\n",
       "      <td>6.50</td>\n",
       "      <td>8.61</td>\n",
       "      <td>33429</td>\n",
       "      <td>Diesel</td>\n",
       "      <td>Dealer</td>\n",
       "      <td>Manual</td>\n",
       "      <td>0</td>\n",
       "      <td>7</td>\n",
       "    </tr>\n",
       "    <tr>\n",
       "      <th>8</th>\n",
       "      <td>8.75</td>\n",
       "      <td>8.89</td>\n",
       "      <td>20273</td>\n",
       "      <td>Diesel</td>\n",
       "      <td>Dealer</td>\n",
       "      <td>Manual</td>\n",
       "      <td>0</td>\n",
       "      <td>6</td>\n",
       "    </tr>\n",
       "    <tr>\n",
       "      <th>9</th>\n",
       "      <td>7.45</td>\n",
       "      <td>8.92</td>\n",
       "      <td>42367</td>\n",
       "      <td>Diesel</td>\n",
       "      <td>Dealer</td>\n",
       "      <td>Manual</td>\n",
       "      <td>0</td>\n",
       "      <td>7</td>\n",
       "    </tr>\n",
       "  </tbody>\n",
       "</table>\n",
       "</div>"
      ],
      "text/plain": [
       "   Selling_Price  Present_Price  Kms_Driven Fuel_Type Seller_Type  \\\n",
       "0           3.35           5.59       27000    Petrol      Dealer   \n",
       "1           4.75           9.54       43000    Diesel      Dealer   \n",
       "2           7.25           9.85        6900    Petrol      Dealer   \n",
       "3           2.85           4.15        5200    Petrol      Dealer   \n",
       "4           4.60           6.87       42450    Diesel      Dealer   \n",
       "5           9.25           9.83        2071    Diesel      Dealer   \n",
       "6           6.75           8.12       18796    Petrol      Dealer   \n",
       "7           6.50           8.61       33429    Diesel      Dealer   \n",
       "8           8.75           8.89       20273    Diesel      Dealer   \n",
       "9           7.45           8.92       42367    Diesel      Dealer   \n",
       "\n",
       "  Transmission  Owner  No. of Years  \n",
       "0       Manual      0             8  \n",
       "1       Manual      0             9  \n",
       "2       Manual      0             5  \n",
       "3       Manual      0            11  \n",
       "4       Manual      0             8  \n",
       "5       Manual      0             4  \n",
       "6       Manual      0             7  \n",
       "7       Manual      0             7  \n",
       "8       Manual      0             6  \n",
       "9       Manual      0             7  "
      ]
     },
     "execution_count": 34,
     "metadata": {},
     "output_type": "execute_result"
    }
   ],
   "source": [
    "df.head(10)"
   ]
  },
  {
   "cell_type": "code",
   "execution_count": 35,
   "id": "23d4133b",
   "metadata": {
    "execution": {
     "iopub.execute_input": "2022-01-25T19:17:03.691033Z",
     "iopub.status.busy": "2022-01-25T19:17:03.688502Z",
     "iopub.status.idle": "2022-01-25T19:17:03.706613Z",
     "shell.execute_reply": "2022-01-25T19:17:03.705980Z",
     "shell.execute_reply.started": "2022-01-25T19:15:09.267614Z"
    },
    "id": "x1HY3fbidf-K",
    "outputId": "824afc7b-d3cb-4440-f33b-51960b799fc2",
    "papermill": {
     "duration": 0.087327,
     "end_time": "2022-01-25T19:17:03.706757",
     "exception": false,
     "start_time": "2022-01-25T19:17:03.619430",
     "status": "completed"
    },
    "tags": []
   },
   "outputs": [
    {
     "data": {
      "text/html": [
       "<div>\n",
       "<style scoped>\n",
       "    .dataframe tbody tr th:only-of-type {\n",
       "        vertical-align: middle;\n",
       "    }\n",
       "\n",
       "    .dataframe tbody tr th {\n",
       "        vertical-align: top;\n",
       "    }\n",
       "\n",
       "    .dataframe thead th {\n",
       "        text-align: right;\n",
       "    }\n",
       "</style>\n",
       "<table border=\"1\" class=\"dataframe\">\n",
       "  <thead>\n",
       "    <tr style=\"text-align: right;\">\n",
       "      <th></th>\n",
       "      <th>Selling_Price</th>\n",
       "      <th>Present_Price</th>\n",
       "      <th>Kms_Driven</th>\n",
       "      <th>Owner</th>\n",
       "      <th>No. of Years</th>\n",
       "      <th>Fuel_Type_Diesel</th>\n",
       "      <th>Fuel_Type_Petrol</th>\n",
       "      <th>Seller_Type_Individual</th>\n",
       "      <th>Transmission_Manual</th>\n",
       "    </tr>\n",
       "  </thead>\n",
       "  <tbody>\n",
       "    <tr>\n",
       "      <th>0</th>\n",
       "      <td>3.35</td>\n",
       "      <td>5.59</td>\n",
       "      <td>27000</td>\n",
       "      <td>0</td>\n",
       "      <td>8</td>\n",
       "      <td>0</td>\n",
       "      <td>1</td>\n",
       "      <td>0</td>\n",
       "      <td>1</td>\n",
       "    </tr>\n",
       "    <tr>\n",
       "      <th>1</th>\n",
       "      <td>4.75</td>\n",
       "      <td>9.54</td>\n",
       "      <td>43000</td>\n",
       "      <td>0</td>\n",
       "      <td>9</td>\n",
       "      <td>1</td>\n",
       "      <td>0</td>\n",
       "      <td>0</td>\n",
       "      <td>1</td>\n",
       "    </tr>\n",
       "    <tr>\n",
       "      <th>2</th>\n",
       "      <td>7.25</td>\n",
       "      <td>9.85</td>\n",
       "      <td>6900</td>\n",
       "      <td>0</td>\n",
       "      <td>5</td>\n",
       "      <td>0</td>\n",
       "      <td>1</td>\n",
       "      <td>0</td>\n",
       "      <td>1</td>\n",
       "    </tr>\n",
       "    <tr>\n",
       "      <th>3</th>\n",
       "      <td>2.85</td>\n",
       "      <td>4.15</td>\n",
       "      <td>5200</td>\n",
       "      <td>0</td>\n",
       "      <td>11</td>\n",
       "      <td>0</td>\n",
       "      <td>1</td>\n",
       "      <td>0</td>\n",
       "      <td>1</td>\n",
       "    </tr>\n",
       "    <tr>\n",
       "      <th>4</th>\n",
       "      <td>4.60</td>\n",
       "      <td>6.87</td>\n",
       "      <td>42450</td>\n",
       "      <td>0</td>\n",
       "      <td>8</td>\n",
       "      <td>1</td>\n",
       "      <td>0</td>\n",
       "      <td>0</td>\n",
       "      <td>1</td>\n",
       "    </tr>\n",
       "    <tr>\n",
       "      <th>...</th>\n",
       "      <td>...</td>\n",
       "      <td>...</td>\n",
       "      <td>...</td>\n",
       "      <td>...</td>\n",
       "      <td>...</td>\n",
       "      <td>...</td>\n",
       "      <td>...</td>\n",
       "      <td>...</td>\n",
       "      <td>...</td>\n",
       "    </tr>\n",
       "    <tr>\n",
       "      <th>296</th>\n",
       "      <td>9.50</td>\n",
       "      <td>11.60</td>\n",
       "      <td>33988</td>\n",
       "      <td>0</td>\n",
       "      <td>6</td>\n",
       "      <td>1</td>\n",
       "      <td>0</td>\n",
       "      <td>0</td>\n",
       "      <td>1</td>\n",
       "    </tr>\n",
       "    <tr>\n",
       "      <th>297</th>\n",
       "      <td>4.00</td>\n",
       "      <td>5.90</td>\n",
       "      <td>60000</td>\n",
       "      <td>0</td>\n",
       "      <td>7</td>\n",
       "      <td>0</td>\n",
       "      <td>1</td>\n",
       "      <td>0</td>\n",
       "      <td>1</td>\n",
       "    </tr>\n",
       "    <tr>\n",
       "      <th>298</th>\n",
       "      <td>3.35</td>\n",
       "      <td>11.00</td>\n",
       "      <td>87934</td>\n",
       "      <td>0</td>\n",
       "      <td>13</td>\n",
       "      <td>0</td>\n",
       "      <td>1</td>\n",
       "      <td>0</td>\n",
       "      <td>1</td>\n",
       "    </tr>\n",
       "    <tr>\n",
       "      <th>299</th>\n",
       "      <td>11.50</td>\n",
       "      <td>12.50</td>\n",
       "      <td>9000</td>\n",
       "      <td>0</td>\n",
       "      <td>5</td>\n",
       "      <td>1</td>\n",
       "      <td>0</td>\n",
       "      <td>0</td>\n",
       "      <td>1</td>\n",
       "    </tr>\n",
       "    <tr>\n",
       "      <th>300</th>\n",
       "      <td>5.30</td>\n",
       "      <td>5.90</td>\n",
       "      <td>5464</td>\n",
       "      <td>0</td>\n",
       "      <td>6</td>\n",
       "      <td>0</td>\n",
       "      <td>1</td>\n",
       "      <td>0</td>\n",
       "      <td>1</td>\n",
       "    </tr>\n",
       "  </tbody>\n",
       "</table>\n",
       "<p>298 rows × 9 columns</p>\n",
       "</div>"
      ],
      "text/plain": [
       "     Selling_Price  Present_Price  Kms_Driven  Owner  No. of Years  \\\n",
       "0             3.35           5.59       27000      0             8   \n",
       "1             4.75           9.54       43000      0             9   \n",
       "2             7.25           9.85        6900      0             5   \n",
       "3             2.85           4.15        5200      0            11   \n",
       "4             4.60           6.87       42450      0             8   \n",
       "..             ...            ...         ...    ...           ...   \n",
       "296           9.50          11.60       33988      0             6   \n",
       "297           4.00           5.90       60000      0             7   \n",
       "298           3.35          11.00       87934      0            13   \n",
       "299          11.50          12.50        9000      0             5   \n",
       "300           5.30           5.90        5464      0             6   \n",
       "\n",
       "     Fuel_Type_Diesel  Fuel_Type_Petrol  Seller_Type_Individual  \\\n",
       "0                   0                 1                       0   \n",
       "1                   1                 0                       0   \n",
       "2                   0                 1                       0   \n",
       "3                   0                 1                       0   \n",
       "4                   1                 0                       0   \n",
       "..                ...               ...                     ...   \n",
       "296                 1                 0                       0   \n",
       "297                 0                 1                       0   \n",
       "298                 0                 1                       0   \n",
       "299                 1                 0                       0   \n",
       "300                 0                 1                       0   \n",
       "\n",
       "     Transmission_Manual  \n",
       "0                      1  \n",
       "1                      1  \n",
       "2                      1  \n",
       "3                      1  \n",
       "4                      1  \n",
       "..                   ...  \n",
       "296                    1  \n",
       "297                    1  \n",
       "298                    1  \n",
       "299                    1  \n",
       "300                    1  \n",
       "\n",
       "[298 rows x 9 columns]"
      ]
     },
     "execution_count": 35,
     "metadata": {},
     "output_type": "execute_result"
    }
   ],
   "source": [
    "df = pd.get_dummies(df, drop_first=True)\n",
    "df"
   ]
  },
  {
   "cell_type": "code",
   "execution_count": 36,
   "id": "d5e90725",
   "metadata": {
    "execution": {
     "iopub.execute_input": "2022-01-25T19:17:03.831027Z",
     "iopub.status.busy": "2022-01-25T19:17:03.830308Z",
     "iopub.status.idle": "2022-01-25T19:17:03.832940Z",
     "shell.execute_reply": "2022-01-25T19:17:03.833441Z",
     "shell.execute_reply.started": "2022-01-25T19:15:09.301197Z"
    },
    "id": "k61SS23LcNzl",
    "papermill": {
     "duration": 0.067995,
     "end_time": "2022-01-25T19:17:03.833622",
     "exception": false,
     "start_time": "2022-01-25T19:17:03.765627",
     "status": "completed"
    },
    "tags": []
   },
   "outputs": [],
   "source": [
    "X = df.iloc[:,1:]\n",
    "y = df.iloc[:,0]"
   ]
  },
  {
   "cell_type": "code",
   "execution_count": 37,
   "id": "10ff6ff5",
   "metadata": {
    "execution": {
     "iopub.execute_input": "2022-01-25T19:17:03.955947Z",
     "iopub.status.busy": "2022-01-25T19:17:03.955216Z",
     "iopub.status.idle": "2022-01-25T19:17:04.131188Z",
     "shell.execute_reply": "2022-01-25T19:17:04.130468Z",
     "shell.execute_reply.started": "2022-01-25T19:15:09.308584Z"
    },
    "id": "i9haIZVIbLif",
    "papermill": {
     "duration": 0.238393,
     "end_time": "2022-01-25T19:17:04.131337",
     "exception": false,
     "start_time": "2022-01-25T19:17:03.892944",
     "status": "completed"
    },
    "tags": []
   },
   "outputs": [],
   "source": [
    "from sklearn.model_selection import train_test_split\n",
    "X_train, X_test, y_train, y_test = train_test_split(X, y, test_size = 0.2, random_state = 5)"
   ]
  },
  {
   "cell_type": "code",
   "execution_count": 38,
   "id": "37e6132f",
   "metadata": {
    "execution": {
     "iopub.execute_input": "2022-01-25T19:17:04.254598Z",
     "iopub.status.busy": "2022-01-25T19:17:04.253943Z",
     "iopub.status.idle": "2022-01-25T19:17:04.256594Z",
     "shell.execute_reply": "2022-01-25T19:17:04.257152Z",
     "shell.execute_reply.started": "2022-01-25T19:15:09.511400Z"
    },
    "id": "iCxYqJxkck5C",
    "outputId": "c375f16b-55a8-4c10-873f-6e6781669f82",
    "papermill": {
     "duration": 0.067261,
     "end_time": "2022-01-25T19:17:04.257331",
     "exception": false,
     "start_time": "2022-01-25T19:17:04.190070",
     "status": "completed"
    },
    "tags": []
   },
   "outputs": [
    {
     "name": "stdout",
     "output_type": "stream",
     "text": [
      "(238, 8)\n",
      "(60, 8)\n"
     ]
    }
   ],
   "source": [
    "print(X_train.shape)\n",
    "print(X_test.shape)"
   ]
  },
  {
   "cell_type": "code",
   "execution_count": 39,
   "id": "f01b87a2",
   "metadata": {
    "execution": {
     "iopub.execute_input": "2022-01-25T19:17:04.379244Z",
     "iopub.status.busy": "2022-01-25T19:17:04.378552Z",
     "iopub.status.idle": "2022-01-25T19:17:04.564292Z",
     "shell.execute_reply": "2022-01-25T19:17:04.563060Z",
     "shell.execute_reply.started": "2022-01-25T19:15:09.518361Z"
    },
    "id": "Gfiun7nZcyRl",
    "papermill": {
     "duration": 0.247563,
     "end_time": "2022-01-25T19:17:04.564453",
     "exception": false,
     "start_time": "2022-01-25T19:17:04.316890",
     "status": "completed"
    },
    "tags": []
   },
   "outputs": [],
   "source": [
    "from sklearn.ensemble import RandomForestRegressor\n",
    "reg = RandomForestRegressor(n_estimators=125)"
   ]
  },
  {
   "cell_type": "code",
   "execution_count": 40,
   "id": "5499b510",
   "metadata": {
    "execution": {
     "iopub.execute_input": "2022-01-25T19:17:04.726405Z",
     "iopub.status.busy": "2022-01-25T19:17:04.689532Z",
     "iopub.status.idle": "2022-01-25T19:17:04.961752Z",
     "shell.execute_reply": "2022-01-25T19:17:04.961084Z",
     "shell.execute_reply.started": "2022-01-25T19:15:09.742545Z"
    },
    "id": "6bsoPz8odC4-",
    "outputId": "577cdce6-8e79-4006-b8b2-f1c6abe526db",
    "papermill": {
     "duration": 0.337735,
     "end_time": "2022-01-25T19:17:04.961928",
     "exception": false,
     "start_time": "2022-01-25T19:17:04.624193",
     "status": "completed"
    },
    "tags": []
   },
   "outputs": [
    {
     "data": {
      "text/plain": [
       "RandomForestRegressor(n_estimators=125)"
      ]
     },
     "execution_count": 40,
     "metadata": {},
     "output_type": "execute_result"
    }
   ],
   "source": [
    "reg.fit(X_train, y_train)"
   ]
  },
  {
   "cell_type": "code",
   "execution_count": 41,
   "id": "c07f776f",
   "metadata": {
    "execution": {
     "iopub.execute_input": "2022-01-25T19:17:05.089070Z",
     "iopub.status.busy": "2022-01-25T19:17:05.088397Z",
     "iopub.status.idle": "2022-01-25T19:17:05.104513Z",
     "shell.execute_reply": "2022-01-25T19:17:05.105038Z",
     "shell.execute_reply.started": "2022-01-25T19:15:09.982426Z"
    },
    "id": "qdCS55Lkdqd5",
    "outputId": "db504a1a-fa87-4b16-cc06-2687cce7bcfd",
    "papermill": {
     "duration": 0.084075,
     "end_time": "2022-01-25T19:17:05.105223",
     "exception": false,
     "start_time": "2022-01-25T19:17:05.021148",
     "status": "completed"
    },
    "tags": []
   },
   "outputs": [
    {
     "data": {
      "text/plain": [
       "array([ 0.71832,  2.4832 ,  8.0452 ,  2.6868 ,  4.184  ,  5.15048,\n",
       "        5.11872,  5.7156 , 16.48936,  0.31784,  4.0376 ,  7.1748 ,\n",
       "        8.52432,  0.4304 ,  4.3304 ,  0.78512, 10.52392,  0.32216,\n",
       "        1.24552,  7.8016 ,  1.12208,  0.21696,  0.44288,  4.5972 ,\n",
       "        0.58552,  2.89   ,  0.62744,  3.3628 , 10.15464, 19.45392,\n",
       "        0.42712,  5.4068 , 15.88104,  9.4756 ,  2.21016,  4.8616 ,\n",
       "        5.1468 ,  4.6724 ,  0.43216,  5.114  ,  2.9312 ,  2.8244 ,\n",
       "        0.252  ,  5.2724 ,  8.5892 ,  0.28656,  0.29688,  9.12408,\n",
       "        1.08304, 10.41464,  9.3032 ,  7.0384 ,  1.07816,  0.95672,\n",
       "        1.6384 ,  5.8788 ,  2.8268 ,  5.3764 ,  0.35464,  5.4524 ])"
      ]
     },
     "execution_count": 41,
     "metadata": {},
     "output_type": "execute_result"
    }
   ],
   "source": [
    "y_pred = reg.predict(X_test)\n",
    "y_pred"
   ]
  },
  {
   "cell_type": "code",
   "execution_count": 42,
   "id": "e44c49f1",
   "metadata": {
    "execution": {
     "iopub.execute_input": "2022-01-25T19:17:05.228260Z",
     "iopub.status.busy": "2022-01-25T19:17:05.227533Z",
     "iopub.status.idle": "2022-01-25T19:17:05.231387Z",
     "shell.execute_reply": "2022-01-25T19:17:05.232030Z",
     "shell.execute_reply.started": "2022-01-25T19:15:10.009523Z"
    },
    "id": "rUUWviFegE3D",
    "papermill": {
     "duration": 0.066685,
     "end_time": "2022-01-25T19:17:05.232209",
     "exception": false,
     "start_time": "2022-01-25T19:17:05.165524",
     "status": "completed"
    },
    "tags": []
   },
   "outputs": [],
   "source": [
    "from sklearn.metrics import mean_squared_error, mean_absolute_error, r2_score"
   ]
  },
  {
   "cell_type": "code",
   "execution_count": 43,
   "id": "6a960954",
   "metadata": {
    "execution": {
     "iopub.execute_input": "2022-01-25T19:17:05.355944Z",
     "iopub.status.busy": "2022-01-25T19:17:05.355236Z",
     "iopub.status.idle": "2022-01-25T19:17:05.363894Z",
     "shell.execute_reply": "2022-01-25T19:17:05.363353Z",
     "shell.execute_reply.started": "2022-01-25T19:15:10.018624Z"
    },
    "id": "bEknTqa_gc7I",
    "outputId": "613bf64a-d1ea-456e-b4ca-01fe968b06e9",
    "papermill": {
     "duration": 0.071721,
     "end_time": "2022-01-25T19:17:05.364054",
     "exception": false,
     "start_time": "2022-01-25T19:17:05.292333",
     "status": "completed"
    },
    "tags": []
   },
   "outputs": [
    {
     "name": "stdout",
     "output_type": "stream",
     "text": [
      "Mean Squared Error: 0.5159121835733322\n",
      "Mean Absolute Error: 0.43447066666666634\n",
      "R2 Score: 0.9738641433127385\n"
     ]
    }
   ],
   "source": [
    "print('Mean Squared Error:',mean_squared_error(y_test, y_pred))\n",
    "print('Mean Absolute Error:',mean_absolute_error(y_test, y_pred))\n",
    "print('R2 Score:',r2_score(y_test, y_pred))"
   ]
  },
  {
   "cell_type": "code",
   "execution_count": null,
   "id": "54c75df3",
   "metadata": {
    "id": "hOY8jfKbd0cr",
    "papermill": {
     "duration": 0.060212,
     "end_time": "2022-01-25T19:17:05.487336",
     "exception": false,
     "start_time": "2022-01-25T19:17:05.427124",
     "status": "completed"
    },
    "tags": []
   },
   "outputs": [],
   "source": []
  }
 ],
 "metadata": {
  "kernelspec": {
   "display_name": "Python 3",
   "language": "python",
   "name": "python3"
  },
  "language_info": {
   "codemirror_mode": {
    "name": "ipython",
    "version": 3
   },
   "file_extension": ".py",
   "mimetype": "text/x-python",
   "name": "python",
   "nbconvert_exporter": "python",
   "pygments_lexer": "ipython3",
   "version": "3.7.12"
  },
  "papermill": {
   "default_parameters": {},
   "duration": 26.468049,
   "end_time": "2022-01-25T19:17:06.461694",
   "environment_variables": {},
   "exception": null,
   "input_path": "__notebook__.ipynb",
   "output_path": "__notebook__.ipynb",
   "parameters": {},
   "start_time": "2022-01-25T19:16:39.993645",
   "version": "2.3.3"
  }
 },
 "nbformat": 4,
 "nbformat_minor": 5
}
